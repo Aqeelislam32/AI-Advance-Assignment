{
  "nbformat": 4,
  "nbformat_minor": 0,
  "metadata": {
    "colab": {
      "provenance": []
    },
    "kernelspec": {
      "name": "python3",
      "display_name": "Python 3"
    },
    "language_info": {
      "name": "python"
    }
  },
  "cells": [
    {
      "cell_type": "markdown",
      "source": [
        "# **Create a list named \"fruits\" containing three different fruits and display its items**\n",
        "\n",
        "using for loop."
      ],
      "metadata": {
        "id": "epmU1oXBYaXC"
      }
    },
    {
      "cell_type": "code",
      "execution_count": 1,
      "metadata": {
        "colab": {
          "base_uri": "https://localhost:8080/"
        },
        "id": "6YNwMoIVWq0H",
        "outputId": "47169a96-3378-493b-baa3-220eae29fd07"
      },
      "outputs": [
        {
          "output_type": "stream",
          "name": "stdout",
          "text": [
            "Apple\n",
            "Cherry\n",
            "Banana\n"
          ]
        }
      ],
      "source": [
        "fruits = [\"Apple\", \"Cherry\", \"Banana\"]\n",
        "\n",
        "# Display the items using a for loop\n",
        "for fruit in fruits:\n",
        "  print(fruit)"
      ]
    },
    {
      "cell_type": "markdown",
      "source": [
        "# **Create a tuple named \"numbers\" with five random numbers and display its item**\n",
        "\n",
        "using for loop."
      ],
      "metadata": {
        "id": "p_fJ37V5ZAK8"
      }
    },
    {
      "cell_type": "code",
      "source": [
        "numbers = (12,8,32,5,8)\n",
        "\n",
        "#display number using a for loop\n",
        "for number in numbers:\n",
        "  print(number)"
      ],
      "metadata": {
        "colab": {
          "base_uri": "https://localhost:8080/"
        },
        "id": "tndW-uHpY8gJ",
        "outputId": "fba3ad0b-6ec2-47c7-c275-46fbb54a5f6e"
      },
      "execution_count": 2,
      "outputs": [
        {
          "output_type": "stream",
          "name": "stdout",
          "text": [
            "12\n",
            "8\n",
            "32\n",
            "5\n",
            "8\n"
          ]
        }
      ]
    },
    {
      "cell_type": "markdown",
      "source": [
        "# **Create a set named \"colors\" with three different colors and display its items**\n",
        "\n",
        "using\n",
        "for loop."
      ],
      "metadata": {
        "id": "MvJvw7g_ZpMf"
      }
    },
    {
      "cell_type": "code",
      "source": [
        "colors = {\"Blue\", \"Red\", \"Brown\"}\n",
        "\n",
        "#display the colors using for loop\n",
        "for color in colors:\n",
        "  print(color)"
      ],
      "metadata": {
        "colab": {
          "base_uri": "https://localhost:8080/"
        },
        "id": "B0So8rNNZQ8s",
        "outputId": "78670f7b-43e3-4168-e016-2994796ee5f2"
      },
      "execution_count": 3,
      "outputs": [
        {
          "output_type": "stream",
          "name": "stdout",
          "text": [
            "Red\n",
            "Brown\n",
            "Blue\n"
          ]
        }
      ]
    },
    {
      "cell_type": "markdown",
      "source": [
        "# **Create a dictionary named \"student\" with the following key-value pairs:**\n",
        "\n",
        "\"name\" as the key and the student's name as the value.\n",
        "\n",
        "o \"age\" as the key and the student's age as the value.\n",
        "\n",
        "o \"grade\" as the key and the student's grade as the value.\n",
        "\n",
        "o Iterate over the dictionary using the for loop and display its keys\n",
        "\n",
        "Iterate over the dictionary using the for loop and display its values"
      ],
      "metadata": {
        "id": "vC6ZMamzcee5"
      }
    },
    {
      "cell_type": "code",
      "source": [
        "student = {\n",
        "    \"name\" : \"Ali\",\n",
        "    \"Age\" : 30,\n",
        "    \"grade\" :\"A\"\n",
        "}\n",
        "\n",
        "#display  its key\n",
        "print(\"Keys\")\n",
        "for key in student.keys():\n",
        "  print(key)\n",
        "\n",
        "\n",
        "#disply in value\n",
        "print(\"values\")\n",
        "for value in student.values():\n",
        "  print(value)\n"
      ],
      "metadata": {
        "colab": {
          "base_uri": "https://localhost:8080/"
        },
        "id": "I2iAyDa5bMQM",
        "outputId": "d641dd1e-fb2b-4156-bda6-dcee72274a7e"
      },
      "execution_count": 8,
      "outputs": [
        {
          "output_type": "stream",
          "name": "stdout",
          "text": [
            "Keys\n",
            "name\n",
            "Age\n",
            "grade\n",
            "values\n",
            "Ali\n",
            "30\n",
            "A\n"
          ]
        }
      ]
    },
    {
      "cell_type": "markdown",
      "source": [
        "# **Create a multi-line string named \"poem\" with a short poem of your choice.**"
      ],
      "metadata": {
        "id": "4xFVbr6-c8vI"
      }
    },
    {
      "cell_type": "code",
      "source": [
        "poem = \"\"\"\n",
        "The sun sets behind the hills,\n",
        "Painting the sky with fiery thrills.\n",
        "Stars emerge in the velvet night,\n",
        "A celestial dance, pure and bright.\n",
        "\n",
        "Whispers of the gentle breeze,\n",
        "Through rustling leaves in the trees.\n",
        "Nature's lullaby, a soothing song,\n",
        "As the peaceful night grows long.\n",
        "\n",
        "Moonlight bathes the world in silver,\n",
        "A tranquil scene, calming the quiver.\n",
        "Dreams take flight on wings of night,\n",
        "In the quiet hours, pure delight.\n",
        "\"\"\"\n",
        "\n",
        "#print the poem\n",
        "print(poem)"
      ],
      "metadata": {
        "id": "Mpj7uOYMdADI"
      },
      "execution_count": null,
      "outputs": []
    },
    {
      "cell_type": "markdown",
      "source": [
        "# Write an if statement to check if the length of the \"fruits\" list is greater than 3.\n",
        "\n",
        "If it\n",
        "is, print \"You have many fruits!\"."
      ],
      "metadata": {
        "id": "5l3epu_WdjX3"
      }
    },
    {
      "cell_type": "code",
      "source": [
        "fruits = [\"Banana\", \"cherry\" , \"Apple\", \"Cherry\"]\n",
        "\n",
        "if len(fruits)>3:\n",
        "  print(\"You have many fruits!\")\n"
      ],
      "metadata": {
        "colab": {
          "base_uri": "https://localhost:8080/"
        },
        "id": "b_76_bSvd7D4",
        "outputId": "b0efda4d-533e-465f-d587-8c30056f0280"
      },
      "execution_count": 15,
      "outputs": [
        {
          "output_type": "stream",
          "name": "stdout",
          "text": [
            "You have many fruits!\n"
          ]
        }
      ]
    },
    {
      "cell_type": "markdown",
      "source": [
        "# Create a program that takes a student's numerical grade as input and prints a\n",
        "# corresponding letter grade. Use if-else statements to classify the grade into\n",
        "# categories such as \"A,\" \"B,\" \"C,\" \"D,\" or \"F.\""
      ],
      "metadata": {
        "id": "yT1CZZzSiYUP"
      }
    },
    {
      "cell_type": "code",
      "source": [
        "numerical_grade = int(input(\"Enter the Numerical grade\"))\n",
        "\n",
        "#Classify the grade noto corresponding letter geade categories\n",
        "if numerical_grade >= 90:\n",
        "  letter_grade =\"A\"\n",
        "elif 80<= numerical_grade <=89:\n",
        "  letter_grade = \"B\"\n",
        "elif 70 <= numerical_grade <=79:\n",
        "  letter_grade =\"C\"\n",
        "elif 60 <= numerical_grade <= 69:\n",
        "  letter_grade = \"D\"\n",
        "\n",
        "else:\n",
        "  letter_grade =\"F\"\n",
        "\n",
        "print(\"The corresponding letter grade is:\", letter_grade)"
      ],
      "metadata": {
        "colab": {
          "base_uri": "https://localhost:8080/"
        },
        "id": "vlnaDHlEinh5",
        "outputId": "636d3687-8684-49d3-dc69-2e5af6341690"
      },
      "execution_count": 45,
      "outputs": [
        {
          "output_type": "stream",
          "name": "stdout",
          "text": [
            "Enter the Numerical grade99\n",
            "The corresponding letter grade is: A\n"
          ]
        }
      ]
    },
    {
      "cell_type": "markdown",
      "source": [
        "# Create a program that takes a temperature in Celsius as input from user and\n",
        "# classifies it into categories like \"Freezing,\" \"Cold,\" \"Moderate,\" \"Warm,\" or \"Hot.\"\n",
        "# Use if-else statements to define the temperature ranges for each category."
      ],
      "metadata": {
        "id": "6R-MyVP3sB_-"
      }
    },
    {
      "cell_type": "code",
      "source": [
        "def  classify_temperature(temperature):\n",
        "  if temperature < -10:\n",
        "    return \"Freezing\"\n",
        "  elif -10 <= temperature < 0:\n",
        "    return \"Cold\"\n",
        "  elif 0 <= temperature <20:\n",
        "    return \"Mooderate\"\n",
        "  elif 20<= temperature < 30:\n",
        "    return \"Warm\"\n",
        "\n",
        "  else:\n",
        "    return \"hot\"\n",
        "\n",
        "#Get temperature input from the user\n",
        "try:\n",
        "  temperature_celsius = int(input(\"Enter the temperature in Celsius\"))\n",
        "  category = classify_temperature(temperature_celsius)\n",
        "  print(f\"The temperature {temperature_celsius}°C is classified as {category}.\")\n",
        "except ValueError:\n",
        "  print(\"Please enter a valid numeric temperature\")\n"
      ],
      "metadata": {
        "colab": {
          "base_uri": "https://localhost:8080/"
        },
        "id": "a1RY1d5SqO1c",
        "outputId": "f4bc459f-c6a3-4533-c4a0-bf1593026681"
      },
      "execution_count": 52,
      "outputs": [
        {
          "output_type": "stream",
          "name": "stdout",
          "text": [
            "Enter the temperature in Celsiusd\n",
            "Please enter a valid numeric temperature\n"
          ]
        }
      ]
    }
  ]
}
