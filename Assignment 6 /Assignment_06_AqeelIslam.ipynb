{
  "cells": [
    {
      "cell_type": "markdown",
      "metadata": {
        "id": "ysXFy6G2hi2_"
      },
      "source": [
        "# **Assignment #06**\n",
        "# **Hope to Skills**"
      ]
    },
    {
      "cell_type": "markdown",
      "metadata": {
        "id": "PvCbE0IGhsRa"
      },
      "source": [
        "# **Question 1: Explain the basic structure and working of a simple Artificial Neural Network (ANN).**\n",
        "\n",
        "In your explanation, include the following points:\n",
        "\n",
        "● The role of neurons and layers in an ANN.\n",
        "\n",
        "● How information flows through the network.\n",
        "\n",
        "● The significance of activation functions and provide examples of commonly used activation\n",
        "functions.\n",
        "\n",
        "● The concept of weights and biases and their role in training an ANN."
      ]
    },
    {
      "cell_type": "markdown",
      "metadata": {
        "id": "5J5tgxgalANZ"
      },
      "source": [
        "# 1. **Role of Neurons and Layers in an ANN**\n",
        "An Artificial Neural Network (ANN) is inspired by the biological neural networks in the human brain. It consists of interconnected nodes or \"neurons\" organized into layers. The basic structure includes:\n",
        "\n",
        "**Input Layer:** This layer receives the input data. Each neuron in this layer represents an attribute or feature of the input data.\n",
        "\n",
        "**Hidden Layer(s):** These layers are situated between the input and output layers. They perform computations and extract features from the input data. There can be one or multiple hidden layers in an ANN.\n",
        "\n",
        "**Output Layer:** This layer produces the final output of the network. The number of neurons in this layer corresponds to the number of output classes or the dimensionality of the output data.\n",
        "Each neuron in one layer is typically connected to every neuron in the next layer, forming a dense or fully connected network.\n",
        "\n",
        "2. **How Information Flows Through the Network**\n",
        "Information in an ANN flows in a forward direction, from the input layer through the hidden layers to the output layer. This process is known as forward propagation. Here is a step-by-step outline:\n",
        "\n",
        "**Input Data:** Each input feature is fed into the input neurons.\n",
        "Weighted Sum: For each neuron in the hidden layers, the input values are multiplied by corresponding weights, summed up, and added to a bias term.\n",
        "𝑧\n",
        "=\n",
        "∑\n",
        "𝑖\n",
        "(\n",
        "𝑤\n",
        "𝑖\n",
        "⋅\n",
        "𝑥\n",
        "𝑖\n",
        ")\n",
        "+\n",
        "𝑏\n",
        "z=\n",
        "i\n",
        "∑\n",
        "​\n",
        " (w\n",
        "i\n",
        "​\n",
        " ⋅x\n",
        "i\n",
        "​\n",
        " )+b\n",
        "\n",
        "where\n",
        "𝑤\n",
        "𝑖\n",
        "w\n",
        "i\n",
        "​\n",
        "  are the weights,\n",
        "𝑥\n",
        "𝑖\n",
        "x\n",
        "i\n",
        "​\n",
        "  are the inputs, and\n",
        "𝑏\n",
        "b is the bias.\n",
        "**Activation Function: **The weighted sum\n",
        "𝑧\n",
        "z is then passed through an activation function to introduce non-linearity into the model.\n",
        "𝑎\n",
        "=\n",
        "𝜎\n",
        "(\n",
        "𝑧\n",
        ")\n",
        "a=σ(z)\n",
        "**Propagation**: The output of the activation function becomes the input for the next layer. This process continues until the output layer is reached.\n",
        "3. Significance of Activation Functions\n",
        "Activation functions are crucial as they determine the output of a neuron by introducing non-linearity. Without non-linearity, the network would behave like a simple linear regression model, regardless of its depth. Commonly used activation functions include:\n",
        "\n",
        "Sigmoid Function:\n",
        "\n",
        "𝜎\n",
        "(\n",
        "𝑧\n",
        ")\n",
        "=\n",
        "1\n",
        "1\n",
        "+\n",
        "𝑒\n",
        "−\n",
        "𝑧\n",
        "σ(z)=\n",
        "1+e\n",
        "−z\n",
        "\n",
        "1\n",
        "​\n",
        "\n",
        "It maps any input to a value between 0 and 1, making it useful for binary classification.\n",
        "\n",
        "Hyperbolic Tangent (Tanh):\n",
        "\n",
        "tanh\n",
        "(\n",
        "𝑧\n",
        ")\n",
        "=\n",
        "𝑒\n",
        "𝑧\n",
        "−\n",
        "𝑒\n",
        "−\n",
        "𝑧\n",
        "𝑒\n",
        "𝑧\n",
        "+\n",
        "𝑒\n",
        "−\n",
        "𝑧\n",
        "tanh(z)=\n",
        "e\n",
        "z\n",
        " +e\n",
        "−z\n",
        "\n",
        "e\n",
        "z\n",
        " −e\n",
        "−z\n",
        "\n",
        "​\n",
        "\n",
        "It maps inputs to a value between -1 and 1, and is zero-centered.\n",
        "\n",
        "ReLU (Rectified Linear Unit):\n",
        "\n",
        "ReLU\n",
        "(\n",
        "𝑧\n",
        ")\n",
        "=\n",
        "max\n",
        "⁡\n",
        "(\n",
        "0\n",
        ",\n",
        "𝑧\n",
        ")\n",
        "ReLU(z)=max(0,z)\n",
        "It introduces sparsity in the network by activating only certain neurons, thus reducing the likelihood of vanishing gradients.\n",
        "\n",
        "Leaky ReLU:\n",
        "\n",
        "Leaky ReLU\n",
        "(\n",
        "𝑧\n",
        ")\n",
        "=\n",
        "max\n",
        "⁡\n",
        "(\n",
        "0.01\n",
        "𝑧\n",
        ",\n",
        "𝑧\n",
        ")\n",
        "Leaky ReLU(z)=max(0.01z,z)\n",
        "It allows a small gradient when the unit is not active, addressing the dying ReLU problem.\n",
        "\n",
        "4. Concept of Weights and Biases and Their Role in Training an ANN\n",
        "Weights and biases are the primary parameters learned during the training process:\n",
        "\n",
        "Weights: Each connection between neurons has an associated weight. These weights determine the strength and direction (positive or negative) of the influence one neuron has on another. During training, weights are adjusted to minimize the error in the network's predictions.\n",
        "\n",
        "Biases: Each neuron has an associated bias that is added to the weighted sum of inputs. Biases allow the activation function to be shifted to the left or right, enabling the network to fit the data better.\n",
        "\n",
        "Training an ANN\n",
        "Training involves adjusting the weights and biases to minimize the error between the predicted output and the actual output. This process typically uses the following steps:\n",
        "\n",
        "Forward Propagation: Compute the output of the network for given inputs.\n",
        "Loss Calculation: Calculate the loss (or error) using a loss function, such as Mean Squared Error (MSE) for regression or Cross-Entropy Loss for classification.\n",
        "Backward Propagation: Compute the gradient of the loss with respect to each weight and bias using the chain rule of calculus. This is done through a process called backpropagation.\n",
        "Weight and Bias Update: Adjust the weights and biases using an optimization algorithm like Gradient Descent:\n",
        "𝑤\n",
        "=\n",
        "𝑤\n",
        "−\n",
        "𝜂\n",
        "∂\n",
        "Loss\n",
        "∂\n",
        "𝑤\n",
        "w=w−η\n",
        "∂w\n",
        "∂Loss\n",
        "​\n",
        "\n",
        "\n",
        "𝑏\n",
        "=\n",
        "𝑏\n",
        "−\n",
        "𝜂\n",
        "∂\n",
        "Loss\n",
        "∂\n",
        "𝑏\n",
        "b=b−η\n",
        "∂b\n",
        "∂Loss\n",
        "​\n",
        "\n",
        "\n",
        "where\n",
        "𝜂\n",
        "η is the learning rate.\n",
        "These steps are repeated iteratively over multiple epochs until the network's performance is satisfactory.\n",
        "\n",
        "Conclusion\n",
        "The basic structure and working of an ANN involve a network of neurons arranged in layers. Information flows through the network via forward propagation, with activation functions introducing non-linearity. Weights and biases are adjusted during training to minimize the error, enabling the network to learn from the data and make accurate predictions.\n",
        "\n",
        "\n",
        "\n",
        "\n",
        "\n"
      ]
    },
    {
      "cell_type": "markdown",
      "metadata": {
        "id": "gF09cAesQf6s"
      },
      "source": [
        "# **Question 2:** Build a FCNN to recognize handwritten digits. Use MNIST handwritten digit data set.\n",
        "Your network should have:\n",
        "\n",
        "● An input layer of size 784 (28x28 pixels)\n",
        "\n",
        "● Two hidden layers with 128 neurons each and ReLU activation\n",
        "\n",
        "● An output layer with 10 neurons (one for each digit) and softmax activation (Use accuracy as\n",
        "an error measure)."
      ]
    },
    {
      "cell_type": "markdown",
      "metadata": {
        "id": "enVgoD32R8fh"
      },
      "source": [
        "# **Load the MNIST dataset**"
      ]
    },
    {
      "cell_type": "code",
      "execution_count": null,
      "metadata": {
        "colab": {
          "base_uri": "https://localhost:8080/"
        },
        "id": "azUp2YAUSB2C",
        "outputId": "74668ef5-65ba-4309-cf35-223b5ab7ac0a"
      },
      "outputs": [
        {
          "name": "stdout",
          "output_type": "stream",
          "text": [
            "Downloading data from https://storage.googleapis.com/tensorflow/tf-keras-datasets/mnist.npz\n",
            "11490434/11490434 [==============================] - 0s 0us/step\n"
          ]
        }
      ],
      "source": [
        "import tensorflow as tf\n",
        "from tensorflow.keras.datasets import mnist\n",
        "\n",
        "#Load the MNIST dataset\n",
        "(X_train, y_train), (X_test, y_test) = mnist.load_data()"
      ]
    },
    {
      "cell_type": "markdown",
      "metadata": {
        "id": "KnO1ACprYYuV"
      },
      "source": [
        "# **Display the Image**"
      ]
    },
    {
      "cell_type": "code",
      "execution_count": null,
      "metadata": {
        "colab": {
          "base_uri": "https://localhost:8080/",
          "height": 93
        },
        "id": "NyN9d2oUXn2p",
        "outputId": "fd1e77d4-6e45-435a-8bdd-283b4e003171"
      },
      "outputs": [
        {
          "data": {
            "image/png": "[encoded data removed]",
            "text/plain": [
              "<Figure size 2000x400 with 10 Axes>"
            ]
          },
          "metadata": {},
          "output_type": "display_data"
        }
      ],
      "source": [
        "import matplotlib.pyplot as plt\n",
        "\n",
        "# Number of images to display\n",
        "n = 10\n",
        "\n",
        "# Create a figure to display the images\n",
        "plt.figure(figsize=(20, 4))\n",
        "\n",
        "# Loop through the first 'n' images\n",
        "for i in range(n):\n",
        "    # Create a subplot within the figure\n",
        "    ax = plt.subplot(2, n, i + 1)\n",
        "\n",
        "    # Display the original image\n",
        "    plt.imshow(X_test[i].reshape(28, 28))\n",
        "\n",
        "    # Set colormap to grayscale\n",
        "    plt.gray()\n",
        "\n",
        "    # Hide x-axis and y-axis labels and ticks\n",
        "    ax.get_xaxis().set_visible(False)\n",
        "    ax.get_yaxis().set_visible(False)\n",
        "\n",
        "# Show the figure with the images\n",
        "plt.show()\n",
        "\n",
        "# Close the figure\n",
        "plt.close()\n"
      ]
    },
    {
      "cell_type": "markdown",
      "metadata": {
        "id": "HgxRJvtLSpcR"
      },
      "source": [
        "# **Normalize the Pixel**"
      ]
    },
    {
      "cell_type": "code",
      "execution_count": null,
      "metadata": {
        "id": "KIwZ3cKZSvZO"
      },
      "outputs": [],
      "source": [
        "# Normalize the pixel values (0 to 255) to (0 to 1)\n",
        "X_train = X_train.astype('float32') / 255.0\n",
        "X_test =X_test.astype('float32') / 255.0"
      ]
    },
    {
      "cell_type": "markdown",
      "metadata": {
        "id": "qEAkb89CTFe0"
      },
      "source": [
        "# **Flatten the images**"
      ]
    },
    {
      "cell_type": "code",
      "execution_count": null,
      "metadata": {
        "id": "aheJMRicTQwz"
      },
      "outputs": [],
      "source": [
        "# Flatten the images from 28x28 to 784\n",
        "X_train =X_train.reshape(-1, 28*28)\n",
        "X_test =X_test.reshape(-1, 28*28)"
      ]
    },
    {
      "cell_type": "markdown",
      "metadata": {
        "id": "iK8YuYsDThzX"
      },
      "source": [
        "# **One Hot  Encoding**"
      ]
    },
    {
      "cell_type": "code",
      "execution_count": null,
      "metadata": {
        "id": "m3Ha-b4yTgPA"
      },
      "outputs": [],
      "source": [
        "\n",
        "# Convert labels to one-hot encoding\n",
        "y_train = tf.keras.utils.to_categorical(y_train, 10)\n",
        "y_test = tf.keras.utils.to_categorical(y_test, 10)"
      ]
    },
    {
      "cell_type": "markdown",
      "metadata": {
        "id": "t2PU9MD5T2Fa"
      },
      "source": [
        "# **neural network architecture**"
      ]
    },
    {
      "cell_type": "code",
      "execution_count": null,
      "metadata": {
        "id": "8JeRoc8ST8HB"
      },
      "outputs": [],
      "source": [
        "from tensorflow.keras.models import Sequential\n",
        "from tensorflow.keras.layers import Dense, Flatten\n",
        "\n",
        "#definw the model\n",
        "model =Sequential([\n",
        "    Dense(128, activation ='relu', input_shape=(784,)),\n",
        "    Dense(128, activation='relu'),\n",
        "    Dense(10, activation='softmax')\n",
        "])"
      ]
    },
    {
      "cell_type": "markdown",
      "metadata": {
        "id": "hVFDrFS8U3cw"
      },
      "source": [
        "# **Compile the model**"
      ]
    },
    {
      "cell_type": "code",
      "execution_count": null,
      "metadata": {
        "colab": {
          "base_uri": "https://localhost:8080/"
        },
        "id": "uzAy_OmPU6z2",
        "outputId": "d00f1568-14f0-4e2c-abaf-ab3d13c1d8b0"
      },
      "outputs": [
        {
          "name": "stdout",
          "output_type": "stream",
          "text": [
            "Model: \"sequential\"\n",
            "_________________________________________________________________\n",
            " Layer (type)                Output Shape              Param #   \n",
            "=================================================================\n",
            " dense_1 (Dense)             (None, 128)               100480    \n",
            "                                                                 \n",
            " dense_2 (Dense)             (None, 128)               16512     \n",
            "                                                                 \n",
            " dense_3 (Dense)             (None, 10)                1290      \n",
            "                                                                 \n",
            "=================================================================\n",
            "Total params: 118282 (462.04 KB)\n",
            "Trainable params: 118282 (462.04 KB)\n",
            "Non-trainable params: 0 (0.00 Byte)\n",
            "_________________________________________________________________\n"
          ]
        }
      ],
      "source": [
        "model.compile(optimizer='adam',\n",
        "              loss='categorical_crossentropy',\n",
        "              metrics=['accuracy'])\n",
        "model.summary()"
      ]
    },
    {
      "cell_type": "markdown",
      "metadata": {
        "id": "t93Ib0VRVCyC"
      },
      "source": [
        "# **Train the model**"
      ]
    },
    {
      "cell_type": "code",
      "execution_count": null,
      "metadata": {
        "colab": {
          "base_uri": "https://localhost:8080/"
        },
        "id": "5es-epx6Vzvg",
        "outputId": "272f3f3d-2560-4ec1-8c82-aa28396f0984"
      },
      "outputs": [
        {
          "name": "stdout",
          "output_type": "stream",
          "text": [
            "Epoch 1/25\n",
            "1500/1500 [==============================] - 7s 4ms/step - loss: 0.0176 - accuracy: 0.9939 - val_loss: 0.1173 - val_accuracy: 0.9762\n",
            "Epoch 2/25\n",
            "1500/1500 [==============================] - 5s 4ms/step - loss: 0.0151 - accuracy: 0.9947 - val_loss: 0.1191 - val_accuracy: 0.9775\n",
            "Epoch 3/25\n",
            "1500/1500 [==============================] - 7s 5ms/step - loss: 0.0142 - accuracy: 0.9949 - val_loss: 0.1236 - val_accuracy: 0.9761\n",
            "Epoch 4/25\n",
            "1500/1500 [==============================] - 6s 4ms/step - loss: 0.0128 - accuracy: 0.9959 - val_loss: 0.1401 - val_accuracy: 0.9741\n",
            "Epoch 5/25\n",
            "1500/1500 [==============================] - 7s 5ms/step - loss: 0.0113 - accuracy: 0.9965 - val_loss: 0.1466 - val_accuracy: 0.9734\n",
            "Epoch 6/25\n",
            "1500/1500 [==============================] - 5s 4ms/step - loss: 0.0137 - accuracy: 0.9954 - val_loss: 0.1393 - val_accuracy: 0.9753\n",
            "Epoch 7/25\n",
            "1500/1500 [==============================] - 7s 5ms/step - loss: 0.0128 - accuracy: 0.9956 - val_loss: 0.1430 - val_accuracy: 0.9753\n",
            "Epoch 8/25\n",
            "1500/1500 [==============================] - 12s 8ms/step - loss: 0.0132 - accuracy: 0.9955 - val_loss: 0.1355 - val_accuracy: 0.9766\n",
            "Epoch 9/25\n",
            "1500/1500 [==============================] - 10s 7ms/step - loss: 0.0101 - accuracy: 0.9966 - val_loss: 0.1504 - val_accuracy: 0.9757\n",
            "Epoch 10/25\n",
            "1500/1500 [==============================] - 7s 5ms/step - loss: 0.0099 - accuracy: 0.9970 - val_loss: 0.1531 - val_accuracy: 0.9767\n",
            "Epoch 11/25\n",
            "1500/1500 [==============================] - 5s 4ms/step - loss: 0.0084 - accuracy: 0.9973 - val_loss: 0.1478 - val_accuracy: 0.9753\n",
            "Epoch 12/25\n",
            "1500/1500 [==============================] - 7s 5ms/step - loss: 0.0122 - accuracy: 0.9961 - val_loss: 0.1401 - val_accuracy: 0.9777\n",
            "Epoch 13/25\n",
            "1500/1500 [==============================] - 6s 4ms/step - loss: 0.0078 - accuracy: 0.9977 - val_loss: 0.1740 - val_accuracy: 0.9743\n",
            "Epoch 14/25\n",
            "1500/1500 [==============================] - 7s 5ms/step - loss: 0.0098 - accuracy: 0.9967 - val_loss: 0.1662 - val_accuracy: 0.9777\n",
            "Epoch 15/25\n",
            "1500/1500 [==============================] - 6s 4ms/step - loss: 0.0077 - accuracy: 0.9976 - val_loss: 0.1783 - val_accuracy: 0.9757\n",
            "Epoch 16/25\n",
            "1500/1500 [==============================] - 7s 5ms/step - loss: 0.0095 - accuracy: 0.9971 - val_loss: 0.1786 - val_accuracy: 0.9757\n",
            "Epoch 17/25\n",
            "1500/1500 [==============================] - 6s 4ms/step - loss: 0.0084 - accuracy: 0.9975 - val_loss: 0.1634 - val_accuracy: 0.9771\n",
            "Epoch 18/25\n",
            "1500/1500 [==============================] - 7s 5ms/step - loss: 0.0093 - accuracy: 0.9973 - val_loss: 0.1719 - val_accuracy: 0.9778\n",
            "Epoch 19/25\n",
            "1500/1500 [==============================] - 5s 4ms/step - loss: 0.0092 - accuracy: 0.9973 - val_loss: 0.1708 - val_accuracy: 0.9771\n",
            "Epoch 20/25\n",
            "1500/1500 [==============================] - 7s 5ms/step - loss: 0.0089 - accuracy: 0.9975 - val_loss: 0.1823 - val_accuracy: 0.9774\n",
            "Epoch 21/25\n",
            "1500/1500 [==============================] - 5s 4ms/step - loss: 0.0075 - accuracy: 0.9977 - val_loss: 0.1695 - val_accuracy: 0.9782\n",
            "Epoch 22/25\n",
            "1500/1500 [==============================] - 7s 5ms/step - loss: 0.0078 - accuracy: 0.9974 - val_loss: 0.1708 - val_accuracy: 0.9786\n",
            "Epoch 23/25\n",
            "1500/1500 [==============================] - 6s 4ms/step - loss: 0.0061 - accuracy: 0.9982 - val_loss: 0.1670 - val_accuracy: 0.9782\n",
            "Epoch 24/25\n",
            "1500/1500 [==============================] - 7s 5ms/step - loss: 0.0075 - accuracy: 0.9979 - val_loss: 0.1705 - val_accuracy: 0.9800\n",
            "Epoch 25/25\n",
            "1500/1500 [==============================] - 6s 4ms/step - loss: 0.0083 - accuracy: 0.9978 - val_loss: 0.1706 - val_accuracy: 0.9785\n"
          ]
        },
        {
          "data": {
            "text/plain": [
              "<keras.src.callbacks.History at 0x790ca8654d00>"
            ]
          },
          "execution_count": 15,
          "metadata": {},
          "output_type": "execute_result"
        }
      ],
      "source": [
        "model.fit(X_train, y_train, epochs=25, batch_size=32, validation_split=0.2)\n"
      ]
    },
    {
      "cell_type": "markdown",
      "metadata": {
        "id": "jzy0JYZQV8Ff"
      },
      "source": [
        "# **Evaluate the model**"
      ]
    },
    {
      "cell_type": "code",
      "execution_count": null,
      "metadata": {
        "colab": {
          "base_uri": "https://localhost:8080/"
        },
        "id": "EN4GzfpeWHe1",
        "outputId": "b2013be7-3f74-44e0-e7c3-6f1d56f8d9b4"
      },
      "outputs": [
        {
          "name": "stdout",
          "output_type": "stream",
          "text": [
            "313/313 [==============================] - 1s 2ms/step - loss: 0.1542 - accuracy: 0.9783\n",
            "Test accuracy:  {test_accuracy}\n"
          ]
        }
      ],
      "source": [
        "test_loss, test_accuracy =model.evaluate(X_test, y_test)\n",
        "print('Test accuracy:  {test_accuracy}')"
      ]
    },
    {
      "cell_type": "code",
      "execution_count": null,
      "metadata": {
        "colab": {
          "base_uri": "https://localhost:8080/"
        },
        "id": "LAuwzdy9bbTH",
        "outputId": "06a7fff6-166e-4174-c5f8-cb594ab09cc5"
      },
      "outputs": [
        {
          "name": "stdout",
          "output_type": "stream",
          "text": [
            "\n",
            "Test accuracy: 0.9782\n"
          ]
        }
      ],
      "source": [
        "# Import the necessary libraries\n",
        "from sklearn.metrics import accuracy_score\n",
        "import numpy as np\n",
        "import matplotlib.pyplot as plt\n",
        "\n",
        "# Predict probabilities for the test set using the trained model\n",
        "y_pred_probs = model.predict(X_test, verbose=0)\n",
        "y_pred = np.where(y_pred_probs > 0.5, 1, 0)\n",
        "\n",
        "# Calculate and print the test accuracy using predicted and true labels\n",
        "test_accuracy = accuracy_score(y_pred, y_test)\n",
        "print(\"\\nTest accuracy: {}\".format(test_accuracy))\n"
      ]
    },
    {
      "cell_type": "code",
      "execution_count": null,
      "metadata": {
        "colab": {
          "base_uri": "https://localhost:8080/"
        },
        "id": "NYL2VjkfbRvJ",
        "outputId": "06081f92-bb75-446f-be18-4a47a494bb6f"
      },
      "outputs": [
        {
          "name": "stdout",
          "output_type": "stream",
          "text": [
            "1/1 [==============================] - 0s 34ms/step\n"
          ]
        }
      ],
      "source": [
        "# Define a mask for selecting a range of indices (20 to 49)\n",
        "mask = range(20, 50)\n",
        "\n",
        "# Select the first 20 samples from the test set for visualization\n",
        "X_valid = X_test[0:20]\n",
        "actual_labels = y_test[0:20]\n",
        "\n",
        "# Predict probabilities for the selected validation samples\n",
        "y_pred_probs_valid = model.predict(X_valid)\n",
        "y_pred_valid = np.where(y_pred_probs_valid > 0.5, 1, 0)\n"
      ]
    },
    {
      "cell_type": "code",
      "execution_count": null,
      "metadata": {
        "colab": {
          "base_uri": "https://localhost:8080/",
          "height": 162
        },
        "id": "BNas71SvbMIg",
        "outputId": "c05e73f3-68ce-477d-c377-d3db014ac74f"
      },
      "outputs": [
        {
          "data": {
            "image/png": "[encoded data removed]",
            "text/plain": [
              "<Figure size 2000x400 with 40 Axes>"
            ]
          },
          "metadata": {},
          "output_type": "display_data"
        }
      ],
      "source": [
        "# Set up a figure to display images\n",
        "n = len(X_valid)\n",
        "plt.figure(figsize=(20, 4))\n",
        "\n",
        "for i in range(n):\n",
        "    # Display the original image\n",
        "    ax = plt.subplot(2, n, i + 1)\n",
        "    plt.imshow(X_valid[i].reshape(28, 28))\n",
        "    plt.gray()\n",
        "    ax.get_xaxis().set_visible(False)\n",
        "    ax.get_yaxis().set_visible(False)\n",
        "\n",
        "    # Display the predicted digit\n",
        "    predicted_digit = np.argmax(y_pred_probs_valid[i])\n",
        "    ax = plt.subplot(2, n, i + 1 + n)\n",
        "    plt.text(0.5, 0.5, str(predicted_digit), fontsize=12, ha='center', va='center')\n",
        "    plt.axis('off')\n",
        "\n",
        "# Show the plotted images\n",
        "plt.show()\n",
        "\n",
        "# Close the plot\n",
        "plt.close()\n"
      ]
    },
    {
      "cell_type": "markdown",
      "metadata": {
        "id": "fqWd0F0ThGsR"
      },
      "source": [
        "# **Question 3:** Explain the importance of hyperparameter tuning in training an ANN. List at least\n",
        "three hyperparameters commonly tuned in ANN training and describe their impact on the\n",
        "model's performance."
      ]
    },
    {
      "cell_type": "markdown",
      "metadata": {
        "id": "fzDNPQ4qh4Bs"
      },
      "source": [
        "**Hyperparameter** tuning plays a crucial role in training an Artificial Neural Network (ANN) as it directly impacts the model's performance, convergence speed, and generalization ability. Here's an explanation of its importance along with three commonly tuned hyperparameters and their impact on model performance:\n",
        "\n",
        "# **Importance of Hyperparameter Tuning:**\n",
        "Optimal Model Performance: Hyperparameters control the architecture and behavior of the neural network. Tuning these parameters ensures that the model is configured in a way that best captures the underlying patterns in the data, leading to improved performance metrics such as accuracy, precision, recall, or F1-score.\n",
        "\n",
        "# **Preventing Overfitting and Underfitting:**\n",
        "Hyperparameters influence the complexity of the model. Proper tuning helps prevent overfitting (model memorizing the training data) or underfitting (model failing to capture the underlying patterns) by finding the right balance between model complexity and generalization.\n",
        "\n",
        "# **Faster Convergence:**\n",
        "\n",
        " Tuning hyperparameters can lead to faster convergence during training. Optimizing parameters like learning rate and batch size can help the model converge to an optimal solution more quickly, reducing training time and computational resources.\n",
        "\n",
        "# **Robustness and Stability:**\n",
        "\n",
        " Well-tuned hyperparameters result in a more robust and stable model. A robust model performs consistently across different datasets or under various conditions, making it suitable for real-world applications.\n",
        "\n",
        "# **Commonly Tuned Hyperparameters:**\n",
        "\n",
        "\n",
        "# **Learning Rate Impact:**\n",
        "\n",
        " Learning rate controls the step size or the rate at which the model parameters are updated during training. A higher learning rate may lead to faster convergence but risks overshooting the optimal solution, while a lower learning rate may slow down convergence.\n",
        "\n",
        "# **Optimization:**\n",
        "\n",
        "Tuning the learning rate involves finding a value that allows the model to converge quickly without oscillating around the optimal solution or getting stuck in local minima.\n",
        "\n",
        "# **Number of Hidden Units or Layers:**\n",
        "\n",
        "Impact: The number of hidden units or layers determines the complexity and capacity of the neural network. Increasing the number of units or layers can improve the model's ability to capture complex patterns in the data, but it also increases the risk of overfitting.\n",
        "Optimization: Finding the optimal number of hidden units or layers involves balancing model complexity with the risk of overfitting. This can be done through techniques like cross-validation or model selection.\n",
        "\n",
        "# **Activation Functions:**\n",
        "\n",
        "**Impact:**\n",
        "Activation functions introduce non-linearity into the neural network, allowing it to learn complex relationships in the data. Different activation functions have different properties and may be more suitable for specific types of data or tasks.\n",
        "\n",
        "**Optimization:**\n",
        "\n",
        "Selecting the appropriate activation functions involves experimenting with various options (e.g., ReLU, sigmoid, tanh) and evaluating their performance on validation data. The choice may depend on the task, network architecture, and the presence of vanishing or exploding gradients.\n",
        "By carefully tuning these hyperparameters, practitioners can fine-tune the neural network to achieve optimal performance, robustness, and generalization ability, making it suitable for real-world applications.\n",
        "\n",
        "\n",
        "\n",
        "\n",
        "\n"
      ]
    },
    {
      "cell_type": "markdown",
      "metadata": {
        "id": "OBeRToIZjqIA"
      },
      "source": [
        "# **Question 4:**\n",
        " Write a Python script to create and compare the performance of an ANN using\n",
        "different activation functions (ReLU, Sigmoid, and Tanh) for the hidden layers. Use a simple\n",
        "dataset (e.g., Iris dataset) to train and evaluate the models. Report the accuracy for each\n",
        "activation function."
      ]
    },
    {
      "cell_type": "markdown",
      "metadata": {
        "id": "owmO1dv3kiFe"
      },
      "source": [
        "# **Import Library**"
      ]
    },
    {
      "cell_type": "code",
      "execution_count": null,
      "metadata": {
        "id": "dSgsni2cj-ua"
      },
      "outputs": [],
      "source": [
        "import numpy as np\n",
        "import pandas as pd\n",
        "from sklearn.datasets import load_iris\n",
        "from sklearn.model_selection import train_test_split\n",
        "from sklearn.preprocessing import StandardScaler\n",
        "from sklearn.preprocessing import OneHotEncoder\n",
        "from tensorflow.keras.utils import to_categorical"
      ]
    },
    {
      "cell_type": "markdown",
      "metadata": {
        "id": "zztWZIGpksA8"
      },
      "source": [
        "# **Load the Iris dataset**"
      ]
    },
    {
      "cell_type": "code",
      "execution_count": null,
      "metadata": {
        "colab": {
          "base_uri": "https://localhost:8080/"
        },
        "id": "yE4QOhdEkxrc",
        "outputId": "9a7cec38-6db1-4f71-9799-63d08dbd2dfd"
      },
      "outputs": [
        {
          "name": "stderr",
          "output_type": "stream",
          "text": [
            "/usr/local/lib/python3.10/dist-packages/sklearn/preprocessing/_encoders.py:868: FutureWarning: `sparse` was renamed to `sparse_output` in version 1.2 and will be removed in 1.4. `sparse_output` is ignored unless you leave `sparse` to its default value.\n",
            "  warnings.warn(\n"
          ]
        }
      ],
      "source": [
        "# Load the Iris dataset\n",
        "iris = load_iris()\n",
        "X = iris.data\n",
        "y = iris.target\n",
        "\n",
        "# One-hot encode the labels\n",
        "encoder = OneHotEncoder(sparse=False)\n",
        "y = encoder.fit_transform(y.reshape(-1, 1))\n",
        "\n",
        "# Split the dataset into training and testing sets\n",
        "X_train, X_test, y_train, y_test = train_test_split(X, y, test_size=0.2, random_state=42)\n",
        "\n",
        "# Standardize the features\n",
        "scaler = StandardScaler()\n",
        "X_train = scaler.fit_transform(X_train)\n",
        "X_test = scaler.transform(X_test)\n"
      ]
    },
    {
      "cell_type": "markdown",
      "metadata": {
        "id": "nWWh3GMelBVy"
      },
      "source": [
        "# **create and compile the model**"
      ]
    },
    {
      "cell_type": "code",
      "execution_count": null,
      "metadata": {
        "id": "Ivoby2GqlEfW"
      },
      "outputs": [],
      "source": [
        "from tensorflow.keras.models import Sequential\n",
        "from tensorflow.keras.layers import Dense\n",
        "\n",
        "def create_model(activation_function):\n",
        "    model = Sequential()\n",
        "    model.add(Dense(10, activation=activation_function, input_shape=(X_train.shape[1],)))\n",
        "    model.add(Dense(10, activation=activation_function))\n",
        "    model.add(Dense(3, activation='softmax'))\n",
        "    model.compile(optimizer='adam', loss='categorical_crossentropy', metrics=['accuracy'])\n",
        "    return model\n"
      ]
    },
    {
      "cell_type": "markdown",
      "metadata": {
        "id": "lbkoE2PilNYj"
      },
      "source": [
        "# **Train and evaluate the models using different activation functions**"
      ]
    },
    {
      "cell_type": "code",
      "execution_count": null,
      "metadata": {
        "colab": {
          "base_uri": "https://localhost:8080/"
        },
        "id": "CfHJU7GLlTFp",
        "outputId": "7c868007-f181-4d23-85c6-02995aa5bb2e"
      },
      "outputs": [
        {
          "name": "stdout",
          "output_type": "stream",
          "text": [
            "Training model with relu activation function...\n",
            "Test accuracy with relu activation: 0.9333\n",
            "Training model with sigmoid activation function...\n",
            "Test accuracy with sigmoid activation: 0.9000\n",
            "Training model with tanh activation function...\n",
            "Test accuracy with tanh activation: 0.9667\n"
          ]
        }
      ],
      "source": [
        "# Define the activation functions to test\n",
        "activation_functions = ['relu', 'sigmoid', 'tanh']\n",
        "\n",
        "# Dictionary to store the accuracy results\n",
        "results = {}\n",
        "\n",
        "# Train and evaluate models with different activation functions\n",
        "for activation in activation_functions:\n",
        "    print(f\"Training model with {activation} activation function...\")\n",
        "    model = create_model(activation)\n",
        "    model.fit(X_train, y_train, epochs=50, batch_size=16, verbose=0, validation_split=0.2)\n",
        "    loss, accuracy = model.evaluate(X_test, y_test, verbose=0)\n",
        "    results[activation] = accuracy\n",
        "    print(f\"Test accuracy with {activation} activation: {accuracy:.4f}\")\n"
      ]
    },
    {
      "cell_type": "markdown",
      "metadata": {
        "id": "graUOMGOlhMq"
      },
      "source": [
        "## **Accuracy for each activation function**"
      ]
    },
    {
      "cell_type": "code",
      "execution_count": null,
      "metadata": {
        "colab": {
          "base_uri": "https://localhost:8080/"
        },
        "id": "-_eJtU_2logZ",
        "outputId": "c8edae33-32b2-4af4-bbd7-5b51331f3d7e"
      },
      "outputs": [
        {
          "name": "stdout",
          "output_type": "stream",
          "text": [
            "\n",
            "Accuracy results for different activation functions:\n",
            "relu: 0.9333\n",
            "sigmoid: 0.9000\n",
            "tanh: 0.9667\n"
          ]
        }
      ],
      "source": [
        "# Print the accuracy results\n",
        "print(\"\\nAccuracy results for different activation functions:\")\n",
        "for activation, accuracy in results.items():\n",
        "    print(f\"{activation}: {accuracy:.4f}\")\n"
      ]
    },
    {
      "cell_type": "markdown",
      "metadata": {
        "id": "4dB6Rl68lvaS"
      },
      "source": [
        "# **Question 5:**\n",
        " Weather Prediction Using Fully Connected Neural Networks."
      ]
    },
    {
      "cell_type": "markdown",
      "source": [
        "# **Load Historical Weather Data**"
      ],
      "metadata": {
        "id": "sxMquxOmrArq"
      }
    },
    {
      "cell_type": "code",
      "source": [
        "import pandas as pd\n",
        "\n",
        "# Load the dataset\n",
        "data = pd.read_csv('/content/Weather Training Data.csv')\n",
        "\n",
        "# Display the first few rows of the dataframe\n",
        "print(data.head())\n"
      ],
      "metadata": {
        "colab": {
          "base_uri": "https://localhost:8080/"
        },
        "id": "_y7uKPbwrKO7",
        "outputId": "56b83086-d0f7-4916-c978-ea7b762d9ca0"
      },
      "execution_count": 1,
      "outputs": [
        {
          "output_type": "stream",
          "name": "stdout",
          "text": [
            "  row ID Location  MinTemp  MaxTemp  Rainfall  Evaporation  Sunshine  \\\n",
            "0   Row0   Albury     13.4     22.9       0.6          NaN       NaN   \n",
            "1   Row1   Albury      7.4     25.1       0.0          NaN       NaN   \n",
            "2   Row2   Albury     17.5     32.3       1.0          NaN       NaN   \n",
            "3   Row3   Albury     14.6     29.7       0.2          NaN       NaN   \n",
            "4   Row4   Albury      7.7     26.7       0.0          NaN       NaN   \n",
            "\n",
            "  WindGustDir  WindGustSpeed WindDir9am  ... Humidity9am  Humidity3pm  \\\n",
            "0           W           44.0          W  ...        71.0         22.0   \n",
            "1         WNW           44.0        NNW  ...        44.0         25.0   \n",
            "2           W           41.0        ENE  ...        82.0         33.0   \n",
            "3         WNW           56.0          W  ...        55.0         23.0   \n",
            "4           W           35.0        SSE  ...        48.0         19.0   \n",
            "\n",
            "   Pressure9am  Pressure3pm  Cloud9am  Cloud3pm  Temp9am  Temp3pm  RainToday  \\\n",
            "0       1007.7       1007.1       8.0       NaN     16.9     21.8         No   \n",
            "1       1010.6       1007.8       NaN       NaN     17.2     24.3         No   \n",
            "2       1010.8       1006.0       7.0       8.0     17.8     29.7         No   \n",
            "3       1009.2       1005.4       NaN       NaN     20.6     28.9         No   \n",
            "4       1013.4       1010.1       NaN       NaN     16.3     25.5         No   \n",
            "\n",
            "   RainTomorrow  \n",
            "0           0.0  \n",
            "1           0.0  \n",
            "2           0.0  \n",
            "3           0.0  \n",
            "4           0.0  \n",
            "\n",
            "[5 rows x 23 columns]\n"
          ]
        }
      ]
    },
    {
      "cell_type": "markdown",
      "source": [
        "# **Handing Missing value**"
      ],
      "metadata": {
        "id": "Rw-7FOkFwKwc"
      }
    },
    {
      "cell_type": "code",
      "source": [
        "from sklearn.impute import SimpleImputer\n",
        "\n",
        "# Remove columns with more than 50% missing values\n",
        "threshold = 0.5  # Threshold for removing columns\n",
        "data = data.dropna(thresh=len(data) * threshold, axis=1)"
      ],
      "metadata": {
        "id": "3abgDgNNrZeR"
      },
      "execution_count": 2,
      "outputs": []
    },
    {
      "cell_type": "code",
      "source": [
        "\n",
        "# Identify numerical and categorical columns\n",
        "numerical_features = data.select_dtypes(include=['int64', 'float64']).columns\n",
        "categorical_features = data.select_dtypes(include=['object']).columns\n"
      ],
      "metadata": {
        "id": "taUwpyQMrc9w"
      },
      "execution_count": 3,
      "outputs": []
    },
    {
      "cell_type": "code",
      "source": [
        "\n",
        "# Imputation for numerical features\n",
        "numerical_imputer = SimpleImputer(strategy='mean')\n",
        "data[numerical_features] = numerical_imputer.fit_transform(data[numerical_features])\n"
      ],
      "metadata": {
        "id": "G_XsQIhMrhSb"
      },
      "execution_count": 4,
      "outputs": []
    },
    {
      "cell_type": "code",
      "source": [
        "# Imputation for categorical features\n",
        "categorical_imputer = SimpleImputer(strategy='most_frequent')\n",
        "data[categorical_features] = categorical_imputer.fit_transform(data[categorical_features])\n",
        "\n",
        "# Display the data after imputation\n",
        "print(data.head())"
      ],
      "metadata": {
        "colab": {
          "base_uri": "https://localhost:8080/"
        },
        "id": "W82QDiBAroe5",
        "outputId": "4166b046-e9f6-40eb-ffe4-60881e50a0bb"
      },
      "execution_count": 5,
      "outputs": [
        {
          "output_type": "stream",
          "name": "stdout",
          "text": [
            "  row ID Location  MinTemp  MaxTemp  Rainfall WindGustDir  WindGustSpeed  \\\n",
            "0   Row0   Albury     13.4     22.9       0.6           W           44.0   \n",
            "1   Row1   Albury      7.4     25.1       0.0         WNW           44.0   \n",
            "2   Row2   Albury     17.5     32.3       1.0           W           41.0   \n",
            "3   Row3   Albury     14.6     29.7       0.2         WNW           56.0   \n",
            "4   Row4   Albury      7.7     26.7       0.0           W           35.0   \n",
            "\n",
            "  WindDir9am WindDir3pm  WindSpeed9am  ...  Humidity9am  Humidity3pm  \\\n",
            "0          W        WNW          20.0  ...         71.0         22.0   \n",
            "1        NNW        WSW           4.0  ...         44.0         25.0   \n",
            "2        ENE         NW           7.0  ...         82.0         33.0   \n",
            "3          W          W          19.0  ...         55.0         23.0   \n",
            "4        SSE          W           6.0  ...         48.0         19.0   \n",
            "\n",
            "   Pressure9am  Pressure3pm  Cloud9am  Cloud3pm  Temp9am  Temp3pm  RainToday  \\\n",
            "0       1007.7       1007.1  8.000000  4.307704     16.9     21.8         No   \n",
            "1       1010.6       1007.8  4.041905  4.307704     17.2     24.3         No   \n",
            "2       1010.8       1006.0  7.000000  8.000000     17.8     29.7         No   \n",
            "3       1009.2       1005.4  4.041905  4.307704     20.6     28.9         No   \n",
            "4       1013.4       1010.1  4.041905  4.307704     16.3     25.5         No   \n",
            "\n",
            "  RainTomorrow  \n",
            "0          0.0  \n",
            "1          0.0  \n",
            "2          0.0  \n",
            "3          0.0  \n",
            "4          0.0  \n",
            "\n",
            "[5 rows x 21 columns]\n"
          ]
        }
      ]
    },
    {
      "cell_type": "markdown",
      "source": [
        "# **One-Hot Encode Categorical Variables**"
      ],
      "metadata": {
        "id": "mBiGa4beruEM"
      }
    },
    {
      "cell_type": "code",
      "source": [
        "from sklearn.preprocessing import OneHotEncoder\n",
        "\n",
        "# One-hot encode categorical features\n",
        "onehot_encoder = OneHotEncoder(sparse=False, handle_unknown='ignore')\n",
        "onehot_encoded = onehot_encoder.fit_transform(data[categorical_features])"
      ],
      "metadata": {
        "colab": {
          "base_uri": "https://localhost:8080/"
        },
        "id": "FOIn76i7sc0z",
        "outputId": "b4a75fb5-3225-4da2-e11e-db9834353837"
      },
      "execution_count": 6,
      "outputs": [
        {
          "output_type": "stream",
          "name": "stderr",
          "text": [
            "/usr/local/lib/python3.10/dist-packages/sklearn/preprocessing/_encoders.py:868: FutureWarning: `sparse` was renamed to `sparse_output` in version 1.2 and will be removed in 1.4. `sparse_output` is ignored unless you leave `sparse` to its default value.\n",
            "  warnings.warn(\n"
          ]
        }
      ]
    },
    {
      "cell_type": "code",
      "source": [
        "# Convert the one-hot encoded array to a DataFrame\n",
        "onehot_encoded_df = pd.DataFrame(onehot_encoded, columns=onehot_encoder.get_feature_names_out(categorical_features))\n",
        "\n",
        "# Drop the original categorical features and concatenate the one-hot encoded DataFrame\n",
        "data = data.drop(columns=categorical_features)\n",
        "data = pd.concat([data, onehot_encoded_df], axis=1)"
      ],
      "metadata": {
        "id": "C8Bpbithsoho"
      },
      "execution_count": 7,
      "outputs": []
    },
    {
      "cell_type": "code",
      "source": [
        "\n",
        "# Display the data after one-hot encoding\n",
        "print(data.head())\n",
        "print(f\"Shape after one-hot encoding: {data.shape}\")"
      ],
      "metadata": {
        "colab": {
          "base_uri": "https://localhost:8080/"
        },
        "id": "9pYvO1QEsr2h",
        "outputId": "a36989b9-00f6-4041-cbe7-faf2621644d4"
      },
      "execution_count": 8,
      "outputs": [
        {
          "output_type": "stream",
          "name": "stdout",
          "text": [
            "   MinTemp  MaxTemp  Rainfall  WindGustSpeed  WindSpeed9am  WindSpeed3pm  \\\n",
            "0     13.4     22.9       0.6           44.0          20.0          24.0   \n",
            "1      7.4     25.1       0.0           44.0           4.0          22.0   \n",
            "2     17.5     32.3       1.0           41.0           7.0          20.0   \n",
            "3     14.6     29.7       0.2           56.0          19.0          24.0   \n",
            "4      7.7     26.7       0.0           35.0           6.0          17.0   \n",
            "\n",
            "   Humidity9am  Humidity3pm  Pressure9am  Pressure3pm  ...  WindDir3pm_S  \\\n",
            "0         71.0         22.0       1007.7       1007.1  ...           0.0   \n",
            "1         44.0         25.0       1010.6       1007.8  ...           0.0   \n",
            "2         82.0         33.0       1010.8       1006.0  ...           0.0   \n",
            "3         55.0         23.0       1009.2       1005.4  ...           0.0   \n",
            "4         48.0         19.0       1013.4       1010.1  ...           0.0   \n",
            "\n",
            "   WindDir3pm_SE  WindDir3pm_SSE  WindDir3pm_SSW  WindDir3pm_SW  WindDir3pm_W  \\\n",
            "0            0.0             0.0             0.0            0.0           0.0   \n",
            "1            0.0             0.0             0.0            0.0           0.0   \n",
            "2            0.0             0.0             0.0            0.0           0.0   \n",
            "3            0.0             0.0             0.0            0.0           1.0   \n",
            "4            0.0             0.0             0.0            0.0           1.0   \n",
            "\n",
            "   WindDir3pm_WNW  WindDir3pm_WSW  RainToday_No  RainToday_Yes  \n",
            "0             1.0             0.0           1.0            0.0  \n",
            "1             0.0             1.0           1.0            0.0  \n",
            "2             0.0             0.0           1.0            0.0  \n",
            "3             0.0             0.0           1.0            0.0  \n",
            "4             0.0             0.0           1.0            0.0  \n",
            "\n",
            "[5 rows x 10598 columns]\n",
            "Shape after one-hot encoding: (10527, 10598)\n"
          ]
        }
      ]
    },
    {
      "cell_type": "markdown",
      "source": [
        "# **Normalize Numerical Features**"
      ],
      "metadata": {
        "id": "wlsZF3R2r3NE"
      }
    },
    {
      "cell_type": "code",
      "source": [
        "from sklearn.preprocessing import StandardScaler\n",
        "\n",
        "# Normalize numerical features\n",
        "scaler = StandardScaler()\n",
        "data[numerical_features] = scaler.fit_transform(data[numerical_features])\n",
        "\n",
        "# Display the data after normalization\n",
        "print(data.head())\n",
        "print(f\"Shape after normalization: {data.shape}\")\n"
      ],
      "metadata": {
        "colab": {
          "base_uri": "https://localhost:8080/"
        },
        "id": "ZEw_aJaHr3mX",
        "outputId": "09722ac5-31b9-4358-849d-c7857062bd94"
      },
      "execution_count": 9,
      "outputs": [
        {
          "output_type": "stream",
          "name": "stdout",
          "text": [
            "    MinTemp   MaxTemp  Rainfall  WindGustSpeed  WindSpeed9am  WindSpeed3pm  \\\n",
            "0  0.182622 -0.255025 -0.183577       0.630653      0.916075      0.980084   \n",
            "1 -0.765483  0.066081 -0.242442       0.630653     -1.076879      0.729408   \n",
            "2  0.830494  1.116974 -0.144334       0.383106     -0.703200      0.478732   \n",
            "3  0.372243  0.737485 -0.222821       1.620840      0.791515      0.980084   \n",
            "4 -0.718078  0.299613 -0.242442      -0.111988     -0.827760      0.102718   \n",
            "\n",
            "   Humidity9am  Humidity3pm  Pressure9am  Pressure3pm  ...  WindDir3pm_S  \\\n",
            "0     0.196530    -1.166118    -1.647969    -1.330933  ...           0.0   \n",
            "1    -1.213607    -1.023315    -1.196479    -1.220186  ...           0.0   \n",
            "2     0.771030    -0.642506    -1.165342    -1.504963  ...           0.0   \n",
            "3    -0.639106    -1.118517    -1.414440    -1.599888  ...           0.0   \n",
            "4    -1.004697    -1.308922    -0.760558    -0.856306  ...           0.0   \n",
            "\n",
            "   WindDir3pm_SE  WindDir3pm_SSE  WindDir3pm_SSW  WindDir3pm_SW  WindDir3pm_W  \\\n",
            "0            0.0             0.0             0.0            0.0           0.0   \n",
            "1            0.0             0.0             0.0            0.0           0.0   \n",
            "2            0.0             0.0             0.0            0.0           0.0   \n",
            "3            0.0             0.0             0.0            0.0           1.0   \n",
            "4            0.0             0.0             0.0            0.0           1.0   \n",
            "\n",
            "   WindDir3pm_WNW  WindDir3pm_WSW  RainToday_No  RainToday_Yes  \n",
            "0             1.0             0.0           1.0            0.0  \n",
            "1             0.0             1.0           1.0            0.0  \n",
            "2             0.0             0.0           1.0            0.0  \n",
            "3             0.0             0.0           1.0            0.0  \n",
            "4             0.0             0.0           1.0            0.0  \n",
            "\n",
            "[5 rows x 10598 columns]\n",
            "Shape after normalization: (10527, 10598)\n"
          ]
        }
      ]
    },
    {
      "cell_type": "markdown",
      "source": [
        "# **Neural Network Model**"
      ],
      "metadata": {
        "id": "LndLFgAXtw-w"
      }
    },
    {
      "cell_type": "code",
      "source": [
        "import tensorflow as tf\n",
        "from tensorflow.keras.models import Sequential\n",
        "from tensorflow.keras.layers import Dense\n",
        "\n",
        "# Verify the number of features\n",
        "input_shape = data.shape[1] - 1  # Excluding the target column\n",
        "print(f\"Input shape for the model: {input_shape}\")\n",
        "\n",
        "# Define the model\n",
        "model = Sequential([\n",
        "    Dense(64, activation='relu', input_shape=(input_shape,)),  # Adjust input shape based on the data\n",
        "    Dense(32, activation='relu'),\n",
        "    Dense(1)  # Output layer for regression\n",
        "])\n",
        "\n",
        "# Compile the model\n",
        "model.compile(optimizer='adam', loss='mse', metrics=['mse'])\n",
        "\n",
        "# Display the model summary\n",
        "model.summary()\n"
      ],
      "metadata": {
        "colab": {
          "base_uri": "https://localhost:8080/"
        },
        "id": "vydy-2OStxQ4",
        "outputId": "52a047c8-77dd-4746-9c4f-820f7df035a5"
      },
      "execution_count": 13,
      "outputs": [
        {
          "output_type": "stream",
          "name": "stdout",
          "text": [
            "Input shape for the model: 10597\n",
            "Model: \"sequential_1\"\n",
            "_________________________________________________________________\n",
            " Layer (type)                Output Shape              Param #   \n",
            "=================================================================\n",
            " dense_3 (Dense)             (None, 64)                678272    \n",
            "                                                                 \n",
            " dense_4 (Dense)             (None, 32)                2080      \n",
            "                                                                 \n",
            " dense_5 (Dense)             (None, 1)                 33        \n",
            "                                                                 \n",
            "=================================================================\n",
            "Total params: 680385 (2.60 MB)\n",
            "Trainable params: 680385 (2.60 MB)\n",
            "Non-trainable params: 0 (0.00 Byte)\n",
            "_________________________________________________________________\n"
          ]
        }
      ]
    },
    {
      "cell_type": "code",
      "source": [
        "data.head()"
      ],
      "metadata": {
        "colab": {
          "base_uri": "https://localhost:8080/",
          "height": 255
        },
        "id": "CmNWa0lft74P",
        "outputId": "5c06cbed-c2dd-478e-b072-c6fb04f0ec41"
      },
      "execution_count": 11,
      "outputs": [
        {
          "output_type": "execute_result",
          "data": {
            "text/plain": [
              "    MinTemp   MaxTemp  Rainfall  WindGustSpeed  WindSpeed9am  WindSpeed3pm  \\\n",
              "0  0.043318 -0.132772 -0.222780       0.379896      0.762744      0.645996   \n",
              "1 -1.001732  0.235680 -0.284799       0.379896     -1.006401      0.431646   \n",
              "2  0.757435  1.441523 -0.181435       0.153390     -0.674686      0.217297   \n",
              "3  0.252328  1.006079 -0.264126       1.285918      0.652172      0.645996   \n",
              "4 -0.949479  0.503645 -0.284799      -0.299621     -0.785258     -0.104228   \n",
              "\n",
              "   Humidity9am  Humidity3pm  Pressure9am  Pressure3pm  ...  WindDir3pm_S  \\\n",
              "0     0.071261    -1.516560    -1.703261    -1.402143  ...           0.0   \n",
              "1    -1.492065    -1.367849    -1.238286    -1.289097  ...           0.0   \n",
              "2     0.708172    -0.971286    -1.206218    -1.579787  ...           0.0   \n",
              "3    -0.855154    -1.466989    -1.462756    -1.676683  ...           0.0   \n",
              "4    -1.260461    -1.665271    -0.789344    -0.917660  ...           0.0   \n",
              "\n",
              "   WindDir3pm_SE  WindDir3pm_SSE  WindDir3pm_SSW  WindDir3pm_SW  WindDir3pm_W  \\\n",
              "0            0.0             0.0             0.0            0.0           0.0   \n",
              "1            0.0             0.0             0.0            0.0           0.0   \n",
              "2            0.0             0.0             0.0            0.0           0.0   \n",
              "3            0.0             0.0             0.0            0.0           1.0   \n",
              "4            0.0             0.0             0.0            0.0           1.0   \n",
              "\n",
              "   WindDir3pm_WNW  WindDir3pm_WSW  RainToday_No  RainToday_Yes  \n",
              "0             1.0             0.0           1.0            0.0  \n",
              "1             0.0             1.0           1.0            0.0  \n",
              "2             0.0             0.0           1.0            0.0  \n",
              "3             0.0             0.0           1.0            0.0  \n",
              "4             0.0             0.0           1.0            0.0  \n",
              "\n",
              "[5 rows x 31425 columns]"
            ],
            "text/html": [
              "\n",
              "  <div id=\"df-6ab3c057-75f8-43f4-9f7b-d57efd9d812f\" class=\"colab-df-container\">\n",
              "    <div>\n",
              "<style scoped>\n",
              "    .dataframe tbody tr th:only-of-type {\n",
              "        vertical-align: middle;\n",
              "    }\n",
              "\n",
              "    .dataframe tbody tr th {\n",
              "        vertical-align: top;\n",
              "    }\n",
              "\n",
              "    .dataframe thead th {\n",
              "        text-align: right;\n",
              "    }\n",
              "</style>\n",
              "<table border=\"1\" class=\"dataframe\">\n",
              "  <thead>\n",
              "    <tr style=\"text-align: right;\">\n",
              "      <th></th>\n",
              "      <th>MinTemp</th>\n",
              "      <th>MaxTemp</th>\n",
              "      <th>Rainfall</th>\n",
              "      <th>WindGustSpeed</th>\n",
              "      <th>WindSpeed9am</th>\n",
              "      <th>WindSpeed3pm</th>\n",
              "      <th>Humidity9am</th>\n",
              "      <th>Humidity3pm</th>\n",
              "      <th>Pressure9am</th>\n",
              "      <th>Pressure3pm</th>\n",
              "      <th>...</th>\n",
              "      <th>WindDir3pm_S</th>\n",
              "      <th>WindDir3pm_SE</th>\n",
              "      <th>WindDir3pm_SSE</th>\n",
              "      <th>WindDir3pm_SSW</th>\n",
              "      <th>WindDir3pm_SW</th>\n",
              "      <th>WindDir3pm_W</th>\n",
              "      <th>WindDir3pm_WNW</th>\n",
              "      <th>WindDir3pm_WSW</th>\n",
              "      <th>RainToday_No</th>\n",
              "      <th>RainToday_Yes</th>\n",
              "    </tr>\n",
              "  </thead>\n",
              "  <tbody>\n",
              "    <tr>\n",
              "      <th>0</th>\n",
              "      <td>0.043318</td>\n",
              "      <td>-0.132772</td>\n",
              "      <td>-0.222780</td>\n",
              "      <td>0.379896</td>\n",
              "      <td>0.762744</td>\n",
              "      <td>0.645996</td>\n",
              "      <td>0.071261</td>\n",
              "      <td>-1.516560</td>\n",
              "      <td>-1.703261</td>\n",
              "      <td>-1.402143</td>\n",
              "      <td>...</td>\n",
              "      <td>0.0</td>\n",
              "      <td>0.0</td>\n",
              "      <td>0.0</td>\n",
              "      <td>0.0</td>\n",
              "      <td>0.0</td>\n",
              "      <td>0.0</td>\n",
              "      <td>1.0</td>\n",
              "      <td>0.0</td>\n",
              "      <td>1.0</td>\n",
              "      <td>0.0</td>\n",
              "    </tr>\n",
              "    <tr>\n",
              "      <th>1</th>\n",
              "      <td>-1.001732</td>\n",
              "      <td>0.235680</td>\n",
              "      <td>-0.284799</td>\n",
              "      <td>0.379896</td>\n",
              "      <td>-1.006401</td>\n",
              "      <td>0.431646</td>\n",
              "      <td>-1.492065</td>\n",
              "      <td>-1.367849</td>\n",
              "      <td>-1.238286</td>\n",
              "      <td>-1.289097</td>\n",
              "      <td>...</td>\n",
              "      <td>0.0</td>\n",
              "      <td>0.0</td>\n",
              "      <td>0.0</td>\n",
              "      <td>0.0</td>\n",
              "      <td>0.0</td>\n",
              "      <td>0.0</td>\n",
              "      <td>0.0</td>\n",
              "      <td>1.0</td>\n",
              "      <td>1.0</td>\n",
              "      <td>0.0</td>\n",
              "    </tr>\n",
              "    <tr>\n",
              "      <th>2</th>\n",
              "      <td>0.757435</td>\n",
              "      <td>1.441523</td>\n",
              "      <td>-0.181435</td>\n",
              "      <td>0.153390</td>\n",
              "      <td>-0.674686</td>\n",
              "      <td>0.217297</td>\n",
              "      <td>0.708172</td>\n",
              "      <td>-0.971286</td>\n",
              "      <td>-1.206218</td>\n",
              "      <td>-1.579787</td>\n",
              "      <td>...</td>\n",
              "      <td>0.0</td>\n",
              "      <td>0.0</td>\n",
              "      <td>0.0</td>\n",
              "      <td>0.0</td>\n",
              "      <td>0.0</td>\n",
              "      <td>0.0</td>\n",
              "      <td>0.0</td>\n",
              "      <td>0.0</td>\n",
              "      <td>1.0</td>\n",
              "      <td>0.0</td>\n",
              "    </tr>\n",
              "    <tr>\n",
              "      <th>3</th>\n",
              "      <td>0.252328</td>\n",
              "      <td>1.006079</td>\n",
              "      <td>-0.264126</td>\n",
              "      <td>1.285918</td>\n",
              "      <td>0.652172</td>\n",
              "      <td>0.645996</td>\n",
              "      <td>-0.855154</td>\n",
              "      <td>-1.466989</td>\n",
              "      <td>-1.462756</td>\n",
              "      <td>-1.676683</td>\n",
              "      <td>...</td>\n",
              "      <td>0.0</td>\n",
              "      <td>0.0</td>\n",
              "      <td>0.0</td>\n",
              "      <td>0.0</td>\n",
              "      <td>0.0</td>\n",
              "      <td>1.0</td>\n",
              "      <td>0.0</td>\n",
              "      <td>0.0</td>\n",
              "      <td>1.0</td>\n",
              "      <td>0.0</td>\n",
              "    </tr>\n",
              "    <tr>\n",
              "      <th>4</th>\n",
              "      <td>-0.949479</td>\n",
              "      <td>0.503645</td>\n",
              "      <td>-0.284799</td>\n",
              "      <td>-0.299621</td>\n",
              "      <td>-0.785258</td>\n",
              "      <td>-0.104228</td>\n",
              "      <td>-1.260461</td>\n",
              "      <td>-1.665271</td>\n",
              "      <td>-0.789344</td>\n",
              "      <td>-0.917660</td>\n",
              "      <td>...</td>\n",
              "      <td>0.0</td>\n",
              "      <td>0.0</td>\n",
              "      <td>0.0</td>\n",
              "      <td>0.0</td>\n",
              "      <td>0.0</td>\n",
              "      <td>1.0</td>\n",
              "      <td>0.0</td>\n",
              "      <td>0.0</td>\n",
              "      <td>1.0</td>\n",
              "      <td>0.0</td>\n",
              "    </tr>\n",
              "  </tbody>\n",
              "</table>\n",
              "<p>5 rows × 31425 columns</p>\n",
              "</div>\n",
              "    <div class=\"colab-df-buttons\">\n",
              "\n",
              "  <div class=\"colab-df-container\">\n",
              "    <button class=\"colab-df-convert\" onclick=\"convertToInteractive('df-6ab3c057-75f8-43f4-9f7b-d57efd9d812f')\"\n",
              "            title=\"Convert this dataframe to an interactive table.\"\n",
              "            style=\"display:none;\">\n",
              "\n",
              "  <svg xmlns=\"http://www.w3.org/2000/svg\" height=\"24px\" viewBox=\"0 -960 960 960\">\n",
              "    <path d=\"M120-120v-720h720v720H120Zm60-500h600v-160H180v160Zm220 220h160v-160H400v160Zm0 220h160v-160H400v160ZM180-400h160v-160H180v160Zm440 0h160v-160H620v160ZM180-180h160v-160H180v160Zm440 0h160v-160H620v160Z\"/>\n",
              "  </svg>\n",
              "    </button>\n",
              "\n",
              "  <style>\n",
              "    .colab-df-container {\n",
              "      display:flex;\n",
              "      gap: 12px;\n",
              "    }\n",
              "\n",
              "    .colab-df-convert {\n",
              "      background-color: #E8F0FE;\n",
              "      border: none;\n",
              "      border-radius: 50%;\n",
              "      cursor: pointer;\n",
              "      display: none;\n",
              "      fill: #1967D2;\n",
              "      height: 32px;\n",
              "      padding: 0 0 0 0;\n",
              "      width: 32px;\n",
              "    }\n",
              "\n",
              "    .colab-df-convert:hover {\n",
              "      background-color: #E2EBFA;\n",
              "      box-shadow: 0px 1px 2px rgba(60, 64, 67, 0.3), 0px 1px 3px 1px rgba(60, 64, 67, 0.15);\n",
              "      fill: #174EA6;\n",
              "    }\n",
              "\n",
              "    .colab-df-buttons div {\n",
              "      margin-bottom: 4px;\n",
              "    }\n",
              "\n",
              "    [theme=dark] .colab-df-convert {\n",
              "      background-color: #3B4455;\n",
              "      fill: #D2E3FC;\n",
              "    }\n",
              "\n",
              "    [theme=dark] .colab-df-convert:hover {\n",
              "      background-color: #434B5C;\n",
              "      box-shadow: 0px 1px 3px 1px rgba(0, 0, 0, 0.15);\n",
              "      filter: drop-shadow(0px 1px 2px rgba(0, 0, 0, 0.3));\n",
              "      fill: #FFFFFF;\n",
              "    }\n",
              "  </style>\n",
              "\n",
              "    <script>\n",
              "      const buttonEl =\n",
              "        document.querySelector('#df-6ab3c057-75f8-43f4-9f7b-d57efd9d812f button.colab-df-convert');\n",
              "      buttonEl.style.display =\n",
              "        google.colab.kernel.accessAllowed ? 'block' : 'none';\n",
              "\n",
              "      async function convertToInteractive(key) {\n",
              "        const element = document.querySelector('#df-6ab3c057-75f8-43f4-9f7b-d57efd9d812f');\n",
              "        const dataTable =\n",
              "          await google.colab.kernel.invokeFunction('convertToInteractive',\n",
              "                                                    [key], {});\n",
              "        if (!dataTable) return;\n",
              "\n",
              "        const docLinkHtml = 'Like what you see? Visit the ' +\n",
              "          '<a target=\"_blank\" href=https://colab.research.google.com/notebooks/data_table.ipynb>data table notebook</a>'\n",
              "          + ' to learn more about interactive tables.';\n",
              "        element.innerHTML = '';\n",
              "        dataTable['output_type'] = 'display_data';\n",
              "        await google.colab.output.renderOutput(dataTable, element);\n",
              "        const docLink = document.createElement('div');\n",
              "        docLink.innerHTML = docLinkHtml;\n",
              "        element.appendChild(docLink);\n",
              "      }\n",
              "    </script>\n",
              "  </div>\n",
              "\n",
              "\n",
              "<div id=\"df-26cf06b6-b1bf-46d2-9e4b-2c3a5bc527b6\">\n",
              "  <button class=\"colab-df-quickchart\" onclick=\"quickchart('df-26cf06b6-b1bf-46d2-9e4b-2c3a5bc527b6')\"\n",
              "            title=\"Suggest charts\"\n",
              "            style=\"display:none;\">\n",
              "\n",
              "<svg xmlns=\"http://www.w3.org/2000/svg\" height=\"24px\"viewBox=\"0 0 24 24\"\n",
              "     width=\"24px\">\n",
              "    <g>\n",
              "        <path d=\"M19 3H5c-1.1 0-2 .9-2 2v14c0 1.1.9 2 2 2h14c1.1 0 2-.9 2-2V5c0-1.1-.9-2-2-2zM9 17H7v-7h2v7zm4 0h-2V7h2v10zm4 0h-2v-4h2v4z\"/>\n",
              "    </g>\n",
              "</svg>\n",
              "  </button>\n",
              "\n",
              "<style>\n",
              "  .colab-df-quickchart {\n",
              "      --bg-color: #E8F0FE;\n",
              "      --fill-color: #1967D2;\n",
              "      --hover-bg-color: #E2EBFA;\n",
              "      --hover-fill-color: #174EA6;\n",
              "      --disabled-fill-color: #AAA;\n",
              "      --disabled-bg-color: #DDD;\n",
              "  }\n",
              "\n",
              "  [theme=dark] .colab-df-quickchart {\n",
              "      --bg-color: #3B4455;\n",
              "      --fill-color: #D2E3FC;\n",
              "      --hover-bg-color: #434B5C;\n",
              "      --hover-fill-color: #FFFFFF;\n",
              "      --disabled-bg-color: #3B4455;\n",
              "      --disabled-fill-color: #666;\n",
              "  }\n",
              "\n",
              "  .colab-df-quickchart {\n",
              "    background-color: var(--bg-color);\n",
              "    border: none;\n",
              "    border-radius: 50%;\n",
              "    cursor: pointer;\n",
              "    display: none;\n",
              "    fill: var(--fill-color);\n",
              "    height: 32px;\n",
              "    padding: 0;\n",
              "    width: 32px;\n",
              "  }\n",
              "\n",
              "  .colab-df-quickchart:hover {\n",
              "    background-color: var(--hover-bg-color);\n",
              "    box-shadow: 0 1px 2px rgba(60, 64, 67, 0.3), 0 1px 3px 1px rgba(60, 64, 67, 0.15);\n",
              "    fill: var(--button-hover-fill-color);\n",
              "  }\n",
              "\n",
              "  .colab-df-quickchart-complete:disabled,\n",
              "  .colab-df-quickchart-complete:disabled:hover {\n",
              "    background-color: var(--disabled-bg-color);\n",
              "    fill: var(--disabled-fill-color);\n",
              "    box-shadow: none;\n",
              "  }\n",
              "\n",
              "  .colab-df-spinner {\n",
              "    border: 2px solid var(--fill-color);\n",
              "    border-color: transparent;\n",
              "    border-bottom-color: var(--fill-color);\n",
              "    animation:\n",
              "      spin 1s steps(1) infinite;\n",
              "  }\n",
              "\n",
              "  @keyframes spin {\n",
              "    0% {\n",
              "      border-color: transparent;\n",
              "      border-bottom-color: var(--fill-color);\n",
              "      border-left-color: var(--fill-color);\n",
              "    }\n",
              "    20% {\n",
              "      border-color: transparent;\n",
              "      border-left-color: var(--fill-color);\n",
              "      border-top-color: var(--fill-color);\n",
              "    }\n",
              "    30% {\n",
              "      border-color: transparent;\n",
              "      border-left-color: var(--fill-color);\n",
              "      border-top-color: var(--fill-color);\n",
              "      border-right-color: var(--fill-color);\n",
              "    }\n",
              "    40% {\n",
              "      border-color: transparent;\n",
              "      border-right-color: var(--fill-color);\n",
              "      border-top-color: var(--fill-color);\n",
              "    }\n",
              "    60% {\n",
              "      border-color: transparent;\n",
              "      border-right-color: var(--fill-color);\n",
              "    }\n",
              "    80% {\n",
              "      border-color: transparent;\n",
              "      border-right-color: var(--fill-color);\n",
              "      border-bottom-color: var(--fill-color);\n",
              "    }\n",
              "    90% {\n",
              "      border-color: transparent;\n",
              "      border-bottom-color: var(--fill-color);\n",
              "    }\n",
              "  }\n",
              "</style>\n",
              "\n",
              "  <script>\n",
              "    async function quickchart(key) {\n",
              "      const quickchartButtonEl =\n",
              "        document.querySelector('#' + key + ' button');\n",
              "      quickchartButtonEl.disabled = true;  // To prevent multiple clicks.\n",
              "      quickchartButtonEl.classList.add('colab-df-spinner');\n",
              "      try {\n",
              "        const charts = await google.colab.kernel.invokeFunction(\n",
              "            'suggestCharts', [key], {});\n",
              "      } catch (error) {\n",
              "        console.error('Error during call to suggestCharts:', error);\n",
              "      }\n",
              "      quickchartButtonEl.classList.remove('colab-df-spinner');\n",
              "      quickchartButtonEl.classList.add('colab-df-quickchart-complete');\n",
              "    }\n",
              "    (() => {\n",
              "      let quickchartButtonEl =\n",
              "        document.querySelector('#df-26cf06b6-b1bf-46d2-9e4b-2c3a5bc527b6 button');\n",
              "      quickchartButtonEl.style.display =\n",
              "        google.colab.kernel.accessAllowed ? 'block' : 'none';\n",
              "    })();\n",
              "  </script>\n",
              "</div>\n",
              "\n",
              "    </div>\n",
              "  </div>\n"
            ],
            "application/vnd.google.colaboratory.intrinsic+json": {
              "type": "dataframe",
              "variable_name": "data"
            }
          },
          "metadata": {},
          "execution_count": 11
        }
      ]
    },
    {
      "cell_type": "markdown",
      "source": [
        "# **Train the Neural Network Model**"
      ],
      "metadata": {
        "id": "0NXCdxgCxfND"
      }
    },
    {
      "cell_type": "code",
      "source": [
        "from sklearn.model_selection import train_test_split\n",
        "import numpy as np\n",
        "\n",
        "# Split the data into features and target\n",
        "# Assuming the target column is named 'target'\n",
        "target_column = 'RainToday_Yes'  # Replace 'target' with the actual target column name\n",
        "X = data.drop(columns=[target_column]).values  # Convert to NumPy array\n",
        "y = data[target_column].values  # Convert to NumPy array\n",
        "\n",
        "# Verify shapes of X and y\n",
        "print(f\"Shape of X: {X.shape}\")\n",
        "print(f\"Shape of y: {y.shape}\")\n",
        "\n",
        "# Split into training and validation sets\n",
        "X_train, X_val, y_train, y_val = train_test_split(X, y, test_size=0.2, random_state=42)\n",
        "\n",
        "# Train the model\n",
        "history = model.fit(X_train, y_train, validation_data=(X_val, y_val), epochs=50, batch_size=32)\n",
        "\n",
        "# Plot training history\n",
        "import matplotlib.pyplot as plt\n",
        "\n",
        "plt.plot(history.history['loss'], label='train')\n",
        "plt.plot(history.history['val_loss'], label='val')\n",
        "plt.xlabel('Epoch')\n",
        "plt.ylabel('Mean Squared Error')\n",
        "plt.legend()\n",
        "plt.show()\n"
      ],
      "metadata": {
        "colab": {
          "base_uri": "https://localhost:8080/",
          "height": 1000
        },
        "id": "h5NjwW3yt6ei",
        "outputId": "66c11034-66cc-45b6-86df-f7498526ff6b"
      },
      "execution_count": 14,
      "outputs": [
        {
          "output_type": "stream",
          "name": "stdout",
          "text": [
            "Shape of X: (10527, 10597)\n",
            "Shape of y: (10527,)\n",
            "Epoch 1/50\n",
            "264/264 [==============================] - 2s 5ms/step - loss: 0.0371 - mse: 0.0371 - val_loss: 5.1790e-04 - val_mse: 5.1790e-04\n",
            "Epoch 2/50\n",
            "264/264 [==============================] - 1s 4ms/step - loss: 9.6558e-04 - mse: 9.6558e-04 - val_loss: 7.1462e-04 - val_mse: 7.1462e-04\n",
            "Epoch 3/50\n",
            "264/264 [==============================] - 1s 4ms/step - loss: 4.0071e-04 - mse: 4.0071e-04 - val_loss: 5.0359e-04 - val_mse: 5.0359e-04\n",
            "Epoch 4/50\n",
            "264/264 [==============================] - 1s 4ms/step - loss: 2.2841e-04 - mse: 2.2841e-04 - val_loss: 4.9511e-04 - val_mse: 4.9511e-04\n",
            "Epoch 5/50\n",
            "264/264 [==============================] - 2s 6ms/step - loss: 1.6429e-04 - mse: 1.6429e-04 - val_loss: 4.5917e-04 - val_mse: 4.5917e-04\n",
            "Epoch 6/50\n",
            "264/264 [==============================] - 2s 6ms/step - loss: 1.5709e-04 - mse: 1.5709e-04 - val_loss: 4.7480e-04 - val_mse: 4.7480e-04\n",
            "Epoch 7/50\n",
            "264/264 [==============================] - 1s 4ms/step - loss: 1.6335e-04 - mse: 1.6335e-04 - val_loss: 4.8919e-04 - val_mse: 4.8919e-04\n",
            "Epoch 8/50\n",
            "264/264 [==============================] - 1s 4ms/step - loss: 1.7531e-04 - mse: 1.7531e-04 - val_loss: 3.9109e-04 - val_mse: 3.9109e-04\n",
            "Epoch 9/50\n",
            "264/264 [==============================] - 1s 4ms/step - loss: 1.8013e-04 - mse: 1.8013e-04 - val_loss: 4.3396e-04 - val_mse: 4.3396e-04\n",
            "Epoch 10/50\n",
            "264/264 [==============================] - 1s 4ms/step - loss: 1.9328e-04 - mse: 1.9328e-04 - val_loss: 4.1010e-04 - val_mse: 4.1010e-04\n",
            "Epoch 11/50\n",
            "264/264 [==============================] - 1s 4ms/step - loss: 1.9161e-04 - mse: 1.9161e-04 - val_loss: 4.9623e-04 - val_mse: 4.9623e-04\n",
            "Epoch 12/50\n",
            "264/264 [==============================] - 1s 4ms/step - loss: 1.4601e-04 - mse: 1.4601e-04 - val_loss: 2.2053e-04 - val_mse: 2.2053e-04\n",
            "Epoch 13/50\n",
            "264/264 [==============================] - 1s 4ms/step - loss: 9.4499e-05 - mse: 9.4499e-05 - val_loss: 2.5287e-04 - val_mse: 2.5287e-04\n",
            "Epoch 14/50\n",
            "264/264 [==============================] - 1s 5ms/step - loss: 7.1960e-05 - mse: 7.1960e-05 - val_loss: 2.4632e-04 - val_mse: 2.4632e-04\n",
            "Epoch 15/50\n",
            "264/264 [==============================] - 1s 4ms/step - loss: 7.1051e-05 - mse: 7.1051e-05 - val_loss: 2.5882e-04 - val_mse: 2.5882e-04\n",
            "Epoch 16/50\n",
            "264/264 [==============================] - 1s 5ms/step - loss: 8.7002e-05 - mse: 8.7002e-05 - val_loss: 5.8458e-04 - val_mse: 5.8458e-04\n",
            "Epoch 17/50\n",
            "264/264 [==============================] - 1s 6ms/step - loss: 1.1693e-04 - mse: 1.1693e-04 - val_loss: 2.1201e-04 - val_mse: 2.1201e-04\n",
            "Epoch 18/50\n",
            "264/264 [==============================] - 1s 5ms/step - loss: 1.3391e-04 - mse: 1.3391e-04 - val_loss: 2.1443e-04 - val_mse: 2.1443e-04\n",
            "Epoch 19/50\n",
            "264/264 [==============================] - 1s 4ms/step - loss: 1.0534e-04 - mse: 1.0534e-04 - val_loss: 1.3814e-04 - val_mse: 1.3814e-04\n",
            "Epoch 20/50\n",
            "264/264 [==============================] - 1s 4ms/step - loss: 6.3400e-05 - mse: 6.3400e-05 - val_loss: 1.5890e-04 - val_mse: 1.5890e-04\n",
            "Epoch 21/50\n",
            "264/264 [==============================] - 1s 4ms/step - loss: 4.2363e-05 - mse: 4.2363e-05 - val_loss: 1.3023e-04 - val_mse: 1.3023e-04\n",
            "Epoch 22/50\n",
            "264/264 [==============================] - 1s 4ms/step - loss: 3.4961e-05 - mse: 3.4961e-05 - val_loss: 1.2486e-04 - val_mse: 1.2486e-04\n",
            "Epoch 23/50\n",
            "264/264 [==============================] - 1s 4ms/step - loss: 3.4355e-05 - mse: 3.4355e-05 - val_loss: 1.0933e-04 - val_mse: 1.0933e-04\n",
            "Epoch 24/50\n",
            "264/264 [==============================] - 1s 4ms/step - loss: 3.0632e-05 - mse: 3.0632e-05 - val_loss: 1.0763e-04 - val_mse: 1.0763e-04\n",
            "Epoch 25/50\n",
            "264/264 [==============================] - 1s 4ms/step - loss: 3.4612e-05 - mse: 3.4612e-05 - val_loss: 1.8059e-04 - val_mse: 1.8059e-04\n",
            "Epoch 26/50\n",
            "264/264 [==============================] - 1s 4ms/step - loss: 3.9445e-05 - mse: 3.9445e-05 - val_loss: 9.0609e-05 - val_mse: 9.0609e-05\n",
            "Epoch 27/50\n",
            "264/264 [==============================] - 1s 4ms/step - loss: 4.6319e-05 - mse: 4.6319e-05 - val_loss: 7.6565e-05 - val_mse: 7.6565e-05\n",
            "Epoch 28/50\n",
            "264/264 [==============================] - 1s 6ms/step - loss: 4.4749e-05 - mse: 4.4749e-05 - val_loss: 8.9957e-05 - val_mse: 8.9957e-05\n",
            "Epoch 29/50\n",
            "264/264 [==============================] - 1s 6ms/step - loss: 3.3044e-05 - mse: 3.3044e-05 - val_loss: 9.5467e-05 - val_mse: 9.5467e-05\n",
            "Epoch 30/50\n",
            "264/264 [==============================] - 1s 4ms/step - loss: 2.4177e-05 - mse: 2.4177e-05 - val_loss: 9.6525e-05 - val_mse: 9.6525e-05\n",
            "Epoch 31/50\n",
            "264/264 [==============================] - 1s 4ms/step - loss: 2.3109e-05 - mse: 2.3109e-05 - val_loss: 6.0470e-05 - val_mse: 6.0470e-05\n",
            "Epoch 32/50\n",
            "264/264 [==============================] - 1s 4ms/step - loss: 1.9469e-05 - mse: 1.9469e-05 - val_loss: 4.1543e-05 - val_mse: 4.1543e-05\n",
            "Epoch 33/50\n",
            "264/264 [==============================] - 1s 4ms/step - loss: 2.1633e-05 - mse: 2.1633e-05 - val_loss: 5.0049e-05 - val_mse: 5.0049e-05\n",
            "Epoch 34/50\n",
            "264/264 [==============================] - 1s 4ms/step - loss: 2.8411e-05 - mse: 2.8411e-05 - val_loss: 8.1954e-05 - val_mse: 8.1954e-05\n",
            "Epoch 35/50\n",
            "264/264 [==============================] - 1s 4ms/step - loss: 2.9575e-05 - mse: 2.9575e-05 - val_loss: 3.7925e-05 - val_mse: 3.7925e-05\n",
            "Epoch 36/50\n",
            "264/264 [==============================] - 1s 4ms/step - loss: 2.3422e-05 - mse: 2.3422e-05 - val_loss: 6.2730e-05 - val_mse: 6.2730e-05\n",
            "Epoch 37/50\n",
            "264/264 [==============================] - 1s 4ms/step - loss: 1.5958e-05 - mse: 1.5958e-05 - val_loss: 3.2804e-05 - val_mse: 3.2804e-05\n",
            "Epoch 38/50\n",
            "264/264 [==============================] - 1s 4ms/step - loss: 1.0327e-05 - mse: 1.0327e-05 - val_loss: 3.2948e-05 - val_mse: 3.2948e-05\n",
            "Epoch 39/50\n",
            "264/264 [==============================] - 1s 4ms/step - loss: 8.3474e-06 - mse: 8.3474e-06 - val_loss: 4.0793e-05 - val_mse: 4.0793e-05\n",
            "Epoch 40/50\n",
            "264/264 [==============================] - 2s 6ms/step - loss: 8.5813e-06 - mse: 8.5813e-06 - val_loss: 2.9450e-05 - val_mse: 2.9450e-05\n",
            "Epoch 41/50\n",
            "264/264 [==============================] - 2s 6ms/step - loss: 8.8348e-06 - mse: 8.8348e-06 - val_loss: 6.8281e-05 - val_mse: 6.8281e-05\n",
            "Epoch 42/50\n",
            "264/264 [==============================] - 1s 4ms/step - loss: 1.2469e-05 - mse: 1.2469e-05 - val_loss: 5.7004e-05 - val_mse: 5.7004e-05\n",
            "Epoch 43/50\n",
            "264/264 [==============================] - 1s 4ms/step - loss: 4.3898e-05 - mse: 4.3898e-05 - val_loss: 2.6060e-05 - val_mse: 2.6060e-05\n",
            "Epoch 44/50\n",
            "264/264 [==============================] - 1s 4ms/step - loss: 1.9476e-05 - mse: 1.9476e-05 - val_loss: 1.8319e-05 - val_mse: 1.8319e-05\n",
            "Epoch 45/50\n",
            "264/264 [==============================] - 1s 4ms/step - loss: 1.3336e-05 - mse: 1.3336e-05 - val_loss: 2.5557e-05 - val_mse: 2.5557e-05\n",
            "Epoch 46/50\n",
            "264/264 [==============================] - 1s 4ms/step - loss: 6.1186e-06 - mse: 6.1186e-06 - val_loss: 2.0119e-05 - val_mse: 2.0119e-05\n",
            "Epoch 47/50\n",
            "264/264 [==============================] - 1s 4ms/step - loss: 4.7070e-06 - mse: 4.7070e-06 - val_loss: 1.7605e-05 - val_mse: 1.7605e-05\n",
            "Epoch 48/50\n",
            "264/264 [==============================] - 1s 4ms/step - loss: 5.7653e-06 - mse: 5.7653e-06 - val_loss: 2.0479e-05 - val_mse: 2.0479e-05\n",
            "Epoch 49/50\n",
            "264/264 [==============================] - 1s 4ms/step - loss: 5.5146e-06 - mse: 5.5146e-06 - val_loss: 2.9509e-05 - val_mse: 2.9509e-05\n",
            "Epoch 50/50\n",
            "264/264 [==============================] - 1s 4ms/step - loss: 4.3557e-06 - mse: 4.3557e-06 - val_loss: 1.6212e-05 - val_mse: 1.6212e-05\n"
          ]
        },
        {
          "output_type": "display_data",
          "data": {
            "text/plain": [
              "<Figure size 640x480 with 1 Axes>"
            ],
            "image/png": "[encoded data removed]"
          },
          "metadata": {}
        }
      ]
    },
    {
      "cell_type": "markdown",
      "source": [
        "# **Evaluate the Model**"
      ],
      "metadata": {
        "id": "JHwrocfSvAUg"
      }
    },
    {
      "cell_type": "code",
      "source": [
        "# Evaluate the model on the validation set\n",
        "val_mse = model.evaluate(X_val, y_val)\n",
        "print(f'Validation Mean Squared Error: {val_mse[1]}')\n"
      ],
      "metadata": {
        "colab": {
          "base_uri": "https://localhost:8080/"
        },
        "id": "UzufpH03vBk9",
        "outputId": "cb5c49f7-863c-406b-9238-0af55e34703d"
      },
      "execution_count": 15,
      "outputs": [
        {
          "output_type": "stream",
          "name": "stdout",
          "text": [
            "66/66 [==============================] - 0s 2ms/step - loss: 1.6212e-05 - mse: 1.6212e-05\n",
            "Validation Mean Squared Error: 1.6212459740927443e-05\n"
          ]
        }
      ]
    }
  ],
  "metadata": {
    "colab": {
      "provenance": [],
      "gpuType": "T4"
    },
    "kernelspec": {
      "display_name": "Python 3",
      "name": "python3"
    },
    "language_info": {
      "name": "python"
    },
    "accelerator": "GPU"
  },
  "nbformat": 4,
  "nbformat_minor": 0
}
