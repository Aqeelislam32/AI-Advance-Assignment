{
  "nbformat": 4,
  "nbformat_minor": 0,
  "metadata": {
    "colab": {
      "provenance": []
    },
    "kernelspec": {
      "name": "python3",
      "display_name": "Python 3"
    },
    "language_info": {
      "name": "python"
    }
  },
  "cells": [
    {
      "cell_type": "markdown",
      "source": [
        "# **Assignment #02**\n",
        "# **Hope to Skills**\n",
        "\n",
        "# **Free Artificial Intelligence Advance Course**"
      ],
      "metadata": {
        "id": "rTJ-6x2AwQx9"
      }
    },
    {
      "cell_type": "markdown",
      "source": [
        "#  **1. Write a program that takes a string as input and counts the number of vowels and**\n",
        "# consonants in the string\n",
        "Input: Hello, World!\n",
        "\n",
        "Output:\n",
        "\n",
        "Number of vowels: 3\n",
        "\n",
        "Number of consonants: 7"
      ],
      "metadata": {
        "id": "h0fdFhz7zSFO"
      }
    },
    {
      "cell_type": "code",
      "source": [
        "def count_vowels_and_consonants(input_string):\n",
        "  vowels =\"aeiouAEIOU\"\n",
        "  Consonants = \"bcdfghjklmnpqrstvwxyzBCDFGHJKLMNPQRSTVWXYZ\"\n",
        "\n",
        "  num_vowels=0\n",
        "  num_consonants=0\n",
        "\n",
        "  for char in input_string:\n",
        "    if char in vowels:\n",
        "      num_vowels +=1\n",
        "\n",
        "    elif char in Consonants:\n",
        "      num_consonants +=1\n",
        "\n",
        "  print(\"Number of vowels:\", num_vowels)\n",
        "  print(\"Number of Consonants:\", num_consonants)\n",
        "\n",
        "input_string = input(\"Enter a string \")\n",
        "count_vowels_and_consonants(input_string)"
      ],
      "metadata": {
        "colab": {
          "base_uri": "https://localhost:8080/"
        },
        "id": "S4XfoO9Dz87X",
        "outputId": "2231cc79-dffe-4290-e762-561be8c13d72"
      },
      "execution_count": null,
      "outputs": [
        {
          "output_type": "stream",
          "name": "stdout",
          "text": [
            "Enter a string hello world\n",
            "Number of vowels: 3\n",
            "Number of Consonants: 7\n"
          ]
        }
      ]
    },
    {
      "cell_type": "markdown",
      "source": [
        "#  **2. Write a Python program that accepts a filename from the user and prints the extension**"
      ],
      "metadata": {
        "id": "FXy0PpVC2EAt"
      }
    },
    {
      "cell_type": "code",
      "source": [
        "def get_file_extension(filename):\n",
        "  #split the filename by '_' to get the part\n",
        "  parts =filename.split('.')\n",
        "\n",
        "  #IF there more than one part , return the last part (which represent the extension)\n",
        "  if len(parts) > 1:\n",
        "    return parts[-1]\n",
        "  else:\n",
        "    return \"No extension found\"\n",
        "\n",
        "filename =input(\"Enter a filename: \")\n",
        "extension = get_file_extension(filename)\n",
        "print(\"Extension: \", extension)"
      ],
      "metadata": {
        "colab": {
          "base_uri": "https://localhost:8080/"
        },
        "id": "VXOTR0Tt2LSI",
        "outputId": "c6943c3c-334e-41bd-d67e-016c91cc5a73"
      },
      "execution_count": null,
      "outputs": [
        {
          "output_type": "stream",
          "name": "stdout",
          "text": [
            "Enter a filename: document.docx\n",
            "Extension:  docx\n"
          ]
        }
      ]
    },
    {
      "cell_type": "markdown",
      "source": [
        "#  **3. Write a Python program to check if value 200 exists in the following dictionary.**"
      ],
      "metadata": {
        "id": "0io8Rui97o-p"
      }
    },
    {
      "cell_type": "code",
      "source": [
        "sample_dict = {'a': 100, 'b': 200, 'c': 300}\n",
        "\n",
        "if 200 in sample_dict.values():\n",
        "  print(\"Value 200 exist in the dictionary\")\n",
        "else:\n",
        "  print(\"Value 200 does not exist in the dictionary. \")"
      ],
      "metadata": {
        "colab": {
          "base_uri": "https://localhost:8080/"
        },
        "id": "qbAkVtmpIi31",
        "outputId": "3d45c5ca-c7ba-4e62-a885-9c766ff59c08"
      },
      "execution_count": null,
      "outputs": [
        {
          "output_type": "stream",
          "name": "stdout",
          "text": [
            "Value 200 exist in the dictionary\n"
          ]
        }
      ]
    },
    {
      "cell_type": "markdown",
      "source": [
        "#  4.**The given tuple is a nested tuple. Write a Python program to print the value 20.**"
      ],
      "metadata": {
        "id": "AUhhV4x-Jfbr"
      }
    },
    {
      "cell_type": "code",
      "source": [
        "tuple1 = (\"Orange\", [10, 20, 30], (5, 15, 25))\n",
        "\n",
        "#Access the Seocnd element\n",
        "nested_list = tuple1[1]\n",
        "\n",
        "#Access the second element of the tuple\n",
        "value =nested_list[1]\n",
        "\n",
        "print(\"The Print value is:\", value)"
      ],
      "metadata": {
        "colab": {
          "base_uri": "https://localhost:8080/"
        },
        "id": "D_QWwAsLJsbP",
        "outputId": "31817887-06fa-47ae-cff8-23096db6a074"
      },
      "execution_count": null,
      "outputs": [
        {
          "output_type": "stream",
          "name": "stdout",
          "text": [
            "The Print value is: 20\n"
          ]
        }
      ]
    },
    {
      "cell_type": "markdown",
      "source": [
        "#  **5. Write a Python program that calculates the Body Mass Index (BMI) for a person**\n",
        "# **based on their weight (in kilograms) and height (in meters)**"
      ],
      "metadata": {
        "id": "5CuTgbuTKuyw"
      }
    },
    {
      "cell_type": "code",
      "source": [
        "def calculate_bmi(weight, height):\n",
        "  return weight / (height **2)\n",
        "\n",
        "def interpret_bmi(bmi):\n",
        "  if bmi < 18.5:\n",
        "    return \"Underweight\"\n",
        "\n",
        "  elif 18.5 <= bmi < 25:\n",
        "    return \"Normal weight\"\n",
        "\n",
        "  elif 25 <= bmi <30:\n",
        "    return \"Overweight\"\n",
        "\n",
        "  else:\n",
        "    return \"Obese\"\n",
        "\n",
        "weight = float(input(\"Enter your weight in kilograms: \"))\n",
        "height = float(input(\"Enter your height in meters: \"))\n",
        "\n",
        "bmi =calculate_bmi(weight,height)\n",
        "interpretation = interpret_bmi(bmi)\n",
        "\n",
        "print(\"Your BMI is: \", bmi)\n",
        "print(\"Interperation: \", interpretation)"
      ],
      "metadata": {
        "colab": {
          "base_uri": "https://localhost:8080/"
        },
        "id": "4KMJppRoLx0V",
        "outputId": "dfcb0ffc-2d13-442d-d14a-dbd560aaf605"
      },
      "execution_count": null,
      "outputs": [
        {
          "output_type": "stream",
          "name": "stdout",
          "text": [
            "Enter your weight in kilograms: 33\n",
            "Enter your height in meters: 8\n",
            "Your BMI is:  0.515625\n",
            "Interperation:  Underweight\n"
          ]
        }
      ]
    },
    {
      "cell_type": "markdown",
      "source": [
        "# 6.**Write a Python program that prompts the user to input a string. The program**\n",
        "# **should count the frequency of each character in the string and then print the result**\n",
        "# **as a dictionary**.\n"
      ],
      "metadata": {
        "id": "PC6IZeAvYSQj"
      }
    },
    {
      "cell_type": "code",
      "source": [
        "def count_characters(input_string):\n",
        "  char_frequency= {}\n",
        "\n",
        "  for char in input_string:\n",
        "    #Increment the count of the character in the dictionary\n",
        "\n",
        "    char_frequency[char]= char_frequency.get(char, 0) +1\n",
        "\n",
        "  return char_frequency\n",
        "\n",
        "\n",
        "input_string = input(\"Enter a string \")\n",
        "result =count_characters(input_string)\n",
        "print(\"Character frequency:\", result)"
      ],
      "metadata": {
        "colab": {
          "base_uri": "https://localhost:8080/"
        },
        "id": "8eY8o5rMYpIn",
        "outputId": "96a34fec-a467-461b-d760-5338c55b5165"
      },
      "execution_count": null,
      "outputs": [
        {
          "output_type": "stream",
          "name": "stdout",
          "text": [
            "Enter a string hello\n",
            "Character frequency: {'h': 1, 'e': 1, 'l': 2, 'o': 1}\n"
          ]
        }
      ]
    },
    {
      "cell_type": "markdown",
      "source": [
        "#  **7. Write a Python program that takes a string input from the user and checks if it is a valid**\n",
        "# **email address. If it is valid, print \"Valid email address\", otherwise print**\n",
        "\n",
        "# \"Invalid email\n",
        "# address\"  "
      ],
      "metadata": {
        "id": "3X68OVQJZ6TF"
      }
    },
    {
      "cell_type": "code",
      "source": [
        "def is_valid_email(email):\n",
        "    # Check if \"@\" exists in the email and it ends with \".net\" or \".com\"\n",
        "    if \"@\" in email and (email.endswith(\".net\") or email.endswith(\".com\")):\n",
        "        return True\n",
        "    else:\n",
        "        return False\n",
        "\n",
        "# Prompt the user to input an email address\n",
        "email_address = input(\"Enter an email address: \")\n",
        "\n",
        "# Check if the email address is valid and print the result\n",
        "if is_valid_email(email_address):\n",
        "    print(\"Valid email address\")\n",
        "else:\n",
        "    print(\"Invalid email address\")\n"
      ],
      "metadata": {
        "colab": {
          "base_uri": "https://localhost:8080/"
        },
        "id": "tev4e1vYaV5W",
        "outputId": "97af2d6b-339c-4562-f8c9-17091c7f6ec4"
      },
      "execution_count": null,
      "outputs": [
        {
          "output_type": "stream",
          "name": "stdout",
          "text": [
            "Enter an email address: “abc@example.com”,\n",
            "Invalid email address\n"
          ]
        }
      ]
    },
    {
      "cell_type": "code",
      "source": [
        "def is_valid_email(email):\n",
        "  #check if \"@\" exist in the email and it ends with : \".net\" or \".com\"\n",
        "  if \"@\" in email and (email.endswith(\".net\") or email.endswith(\".com\")):\n",
        "    return True\n",
        "  else:\n",
        "    return False\n",
        "\n",
        "#prompt the user\n",
        "email_address =input(\"Enter an email address: \")\n",
        "\n",
        "\n",
        "if is_valid_email(email_address):\n",
        "  print(\"Valid email address\")\n",
        "\n",
        "else:\n",
        "  print(\"Invalid email address\")"
      ],
      "metadata": {
        "colab": {
          "base_uri": "https://localhost:8080/"
        },
        "id": "c-v0J9dzaruz",
        "outputId": "3f4e9a2e-9e82-4c66-b9d9-a0537c3a3b62"
      },
      "execution_count": null,
      "outputs": [
        {
          "output_type": "stream",
          "name": "stdout",
          "text": [
            "Enter an email address: “abc@example.com”,\n",
            "Invalid email address\n"
          ]
        }
      ]
    },
    {
      "cell_type": "markdown",
      "source": [
        "#  **8. Given a tuple of tuples, write a Python program to print the sum of the elements**\n",
        "# **in each inner tuple.**"
      ],
      "metadata": {
        "id": "Qmx-4ppVlVmA"
      }
    },
    {
      "cell_type": "code",
      "source": [
        "def sum_of_tuples(tuples):\n",
        "    sums = []\n",
        "\n",
        "    # Iterate over each inner tuple\n",
        "    for inner_tuple in tuples:\n",
        "        # Calculate the sum of elements in the inner tuple and append to the list of sums\n",
        "        sum_inner_tuple = sum(inner_tuple)\n",
        "        sums.append(sum_inner_tuple)\n",
        "\n",
        "    return sums\n",
        "\n",
        "# Input tuple of tuples\n",
        "input_tuples = ((1, 2, 3), (4, 5, 6), (7, 8, 9))\n",
        "\n",
        "# Calculate the sum of elements in each inner tuple\n",
        "result = sum_of_tuples(input_tuples)\n",
        "\n",
        "# Print the result\n",
        "print(\", \".join(map(str, result)))\n"
      ],
      "metadata": {
        "colab": {
          "base_uri": "https://localhost:8080/"
        },
        "id": "Wp_aeAn8lN9y",
        "outputId": "72137089-0234-49a3-cee8-8a29c6d63162"
      },
      "execution_count": null,
      "outputs": [
        {
          "output_type": "stream",
          "name": "stdout",
          "text": [
            "6, 15, 24\n"
          ]
        }
      ]
    },
    {
      "cell_type": "markdown",
      "source": [
        "# **9. Create a list containing the 10 numbers . Print the first Three prime numbers from**\n",
        "\n",
        "# Expected Output: List of the first three prime numbers: [2, 3, 5]"
      ],
      "metadata": {
        "id": "lTsnatrpnsJA"
      }
    },
    {
      "cell_type": "code",
      "source": [
        "def is_prime(number):\n",
        "  if number <2 :\n",
        "    return False\n",
        "  for i in range(2, int(number**0.5) +1):\n",
        "    if number %1 ==0:\n",
        "      return False\n",
        "  return True\n",
        "\n",
        "#create a list of the first 10 number\n",
        "number_list =list(range(1,11))\n",
        "\n",
        "#Filter the prime number from the list\n",
        "prime_numbers =[num for num in numbers_list if is_prime(num)]\n",
        "\n",
        "#print the first three prime numbers\n",
        "print(\"List of the first three prime numbers:\", prime_numbers[:3])"
      ],
      "metadata": {
        "colab": {
          "base_uri": "https://localhost:8080/"
        },
        "id": "osxUcs9wry9t",
        "outputId": "1ece8779-4ed0-4103-ff59-ddb2f65476a8"
      },
      "execution_count": null,
      "outputs": [
        {
          "output_type": "stream",
          "name": "stdout",
          "text": [
            "List of the first three prime numbers: [2, 3]\n"
          ]
        }
      ]
    },
    {
      "cell_type": "markdown",
      "source": [
        "#  **10. Given a list of dictionaries representing students' information (name, age, grade),**\n",
        "# **Write a Python program to sort the students based on their grades in descending**\n",
        "# **order and print the sorted list.**"
      ],
      "metadata": {
        "id": "tCWE7e5_tONw"
      }
    },
    {
      "cell_type": "code",
      "source": [
        "student = [\n",
        "    {\"name\": \"Ali\", \"Age\": 20, \"grade\": 85},\n",
        "    {\"name\": \"Ahmad\", \"Age\": 23, \"grade\": 90},\n",
        "    {\"name\": \"Hassan\", \"Age\": 21, \"grade\": 80}\n",
        "\n",
        "]\n",
        "#sort the student based on their grade in descending order\n",
        "sorted_student =sorted(student, key=lambda x:x [\"grade\"], reverse=True)\n",
        "\n",
        "#print the sorted list of student\n",
        "print(\"Sorted list of student based on grade in descending order\")\n",
        "for student in sorted_student:\n",
        "  print(student)"
      ],
      "metadata": {
        "colab": {
          "base_uri": "https://localhost:8080/"
        },
        "id": "mK81nGE8vdka",
        "outputId": "45e4094f-9fca-47ab-93b3-8204385f2aed"
      },
      "execution_count": null,
      "outputs": [
        {
          "output_type": "stream",
          "name": "stdout",
          "text": [
            "Sorted list of student based on grade in descending order\n",
            "{'name': 'Ahmad', 'Age': 23, 'grade': 90}\n",
            "{'name': 'Ali', 'Age': 20, 'grade': 85}\n",
            "{'name': 'Hassan', 'Age': 21, 'grade': 80}\n"
          ]
        }
      ]
    },
    {
      "cell_type": "markdown",
      "source": [
        "#  **11. Create a program that takes a list of multiple numbers separated with commas (,) from**\n",
        "# **the user and finds the total number of unique values in the list and also prints them.**"
      ],
      "metadata": {
        "id": "FLDxywnHDWff"
      }
    },
    {
      "cell_type": "code",
      "source": [
        "def find_unique_values(numbers):\n",
        "    # Split the input string by commas and convert each element to an integer\n",
        "    numbers_list = [int(num.strip()) for num in numbers.split(',')]\n",
        "\n",
        "    # Find the unique values using a set\n",
        "    unique_values = set(numbers_list)\n",
        "\n",
        "    return unique_values\n",
        "\n",
        "# Prompt the user to input a list of numbers separated by commas\n",
        "user_input = input(\"Enter a list of numbers separated by commas: \")\n",
        "\n",
        "# Find the unique values\n",
        "unique_values = find_unique_values(user_input)\n",
        "\n",
        "# Print the total number of unique values and the unique values themselves\n",
        "print(\"Total number of unique values:\", len(unique_values))\n",
        "print(\"Unique values in the list:\", list(unique_values))\n"
      ],
      "metadata": {
        "colab": {
          "base_uri": "https://localhost:8080/"
        },
        "id": "JQGdHKkfDIVJ",
        "outputId": "f92e26c7-f8bd-435c-96a4-57cfa05936e9"
      },
      "execution_count": null,
      "outputs": [
        {
          "output_type": "stream",
          "name": "stdout",
          "text": [
            "Enter a list of numbers separated by commas: 1,2,3,3,4\n",
            "Total number of unique values: 4\n",
            "Unique values in the list: [1, 2, 3, 4]\n"
          ]
        }
      ]
    },
    {
      "cell_type": "markdown",
      "source": [
        "# **12. Write a program that takes two lists as input and returns a new list containing elements**\n",
        "# **that are common to both lists.**"
      ],
      "metadata": {
        "id": "YHw89Px1EAdT"
      }
    },
    {
      "cell_type": "code",
      "source": [
        "def find_common_elements(list1,list2):\n",
        "  #converted list2 to a set for faster lookup\n",
        "  set2 =set(list2)\n",
        "\n",
        "  #use list com[rehension to filter out common element\n",
        "  common_elements =[elem for elem in list1 if elem in set2]\n",
        "\n",
        "  return common_elements\n",
        "\n",
        "#Input lists\n",
        "list1= [1,2,3,4,5]\n",
        "list2=[4,5,6,8,7]\n",
        "\n",
        "#find common element\n",
        "common_elements =find_common_elements(list1, list2)\n",
        "\n",
        "#print the common element\n",
        "print(\"common Elements:\", common_elements)\n"
      ],
      "metadata": {
        "colab": {
          "base_uri": "https://localhost:8080/"
        },
        "id": "w67tAuBHEN6h",
        "outputId": "fdfad25d-644a-49a3-e11d-1cb483535ea5"
      },
      "execution_count": null,
      "outputs": [
        {
          "output_type": "stream",
          "name": "stdout",
          "text": [
            "common Elements: [4, 5]\n"
          ]
        }
      ]
    },
    {
      "cell_type": "markdown",
      "source": [
        "# **13. Write a program that takes two dictionaries as input and merges them into a new**\n",
        "# **dictionary. If there are common keys, combine their values**"
      ],
      "metadata": {
        "id": "iv7KochrFwnL"
      }
    },
    {
      "cell_type": "code",
      "source": [
        "def merge_dictionaries(dict1, dict2):\n",
        "    merged_dict = {}\n",
        "\n",
        "    # Update merged_dict with values from dict1\n",
        "    for key, value in dict1.items():\n",
        "        merged_dict[key] = value\n",
        "\n",
        "    # Update merged_dict with values from dict2\n",
        "    for key, value in dict2.items():\n",
        "        # If the key exists in merged_dict, update its value by adding the value from dict2\n",
        "        if key in merged_dict:\n",
        "            merged_dict[key] += value\n",
        "        # Otherwise, add the key-value pair from dict2 to merged_dict\n",
        "        else:\n",
        "            merged_dict[key] = value\n",
        "\n",
        "    return merged_dict\n",
        "\n",
        "# Input dictionaries\n",
        "dict1 = {'a': 5, 'b': 10, 'c': 15}\n",
        "dict2 = {'b': 20, 'c': 25, 'd': 30}\n",
        "\n",
        "# Merge the dictionaries\n",
        "merged_dictionary = merge_dictionaries(dict1, dict2)\n",
        "\n",
        "# Print the merged dictionary\n",
        "print(\"Merged Dictionary:\", merged_dictionary)\n"
      ],
      "metadata": {
        "colab": {
          "base_uri": "https://localhost:8080/"
        },
        "id": "Fts20J1J0CXi",
        "outputId": "1c4efb35-427e-42ab-f22d-b7ba5a551213"
      },
      "execution_count": null,
      "outputs": [
        {
          "output_type": "stream",
          "name": "stdout",
          "text": [
            "Merged Dictionary: {'a': 5, 'b': 30, 'c': 40, 'd': 30}\n"
          ]
        }
      ]
    },
    {
      "cell_type": "markdown",
      "source": [
        "# **14.Write a program that takes two numbers, base and exponent, and calculates the result**\n",
        "# of raising base to the power of exponent using the ** operator."
      ],
      "metadata": {
        "id": "KRvbp83y7OJN"
      }
    },
    {
      "cell_type": "code",
      "source": [
        "def calculate_power(base, exponent):\n",
        "    return base ** exponent\n",
        "\n",
        "# Input base and exponent\n",
        "base = int(input(\"Base: \"))\n",
        "exponent = int(input(\"Exponent: \"))\n",
        "\n",
        "# Calculate the result\n",
        "result = calculate_power(base, exponent)\n",
        "\n",
        "# Print the result\n",
        "print(\"Result:\", result)\n"
      ],
      "metadata": {
        "id": "xhok7djO7dVE"
      },
      "execution_count": null,
      "outputs": []
    },
    {
      "cell_type": "code",
      "source": [
        "def calculate_power(base, exponent):\n",
        "  return base ** exponent\n",
        "\n",
        "#Input base and exponent\n",
        "base =int(input(\"Base: \"))\n",
        "exponent =int(input(\"Exponent: \"))\n",
        "\n",
        "#calculate the result\n",
        "\n",
        "result = calculate_power(base, exponent)\n",
        "\n",
        "print(\"Result: \", result)"
      ],
      "metadata": {
        "colab": {
          "base_uri": "https://localhost:8080/"
        },
        "id": "sE9vI_PV7kUF",
        "outputId": "3c5f04f7-3e1f-4478-c8b3-b0b04a375c1a"
      },
      "execution_count": null,
      "outputs": [
        {
          "output_type": "stream",
          "name": "stdout",
          "text": [
            "Base: 2\n",
            "Exponent: 3\n",
            "Result:  8\n"
          ]
        }
      ]
    },
    {
      "cell_type": "markdown",
      "source": [
        "# **15.Write a program that takes a temperature in Celsius as input and converts it to**\n",
        "# **Fahrenheit using the formula.**\n",
        "\n",
        "# Fahrenheit = (Celsius * 9/5) + 32."
      ],
      "metadata": {
        "id": "OQ3q4X6p8mVW"
      }
    },
    {
      "cell_type": "code",
      "source": [
        "def celsius_to_fahrenheit(celsius):\n",
        "    fahrenheit = (celsius * 9/5) + 32\n",
        "    return fahrenheit\n",
        "\n",
        "# Input temperature in Celsius\n",
        "celsius = float(input(\"Enter temperature in Celsius: \"))\n",
        "\n",
        "# Convert Celsius to Fahrenheit\n",
        "fahrenheit = celsius_to_fahrenheit(celsius)\n",
        "\n",
        "# Print the result\n",
        "print(\"Temperature in Fahrenheit:\", fahrenheit)\n"
      ],
      "metadata": {
        "colab": {
          "base_uri": "https://localhost:8080/"
        },
        "id": "6T8g8cvF8myK",
        "outputId": "340f6153-c582-44a1-944c-aec23a4824d0"
      },
      "execution_count": null,
      "outputs": [
        {
          "output_type": "stream",
          "name": "stdout",
          "text": [
            "Enter temperature in Celsius: 5\n",
            "Temperature in Fahrenheit: 41.0\n"
          ]
        }
      ]
    },
    {
      "cell_type": "markdown",
      "source": [
        "# **16.Write a Python program to reverse a list without using built-in functions.**"
      ],
      "metadata": {
        "id": "UKVAI2w1_Bj-"
      }
    },
    {
      "cell_type": "code",
      "source": [
        "def reverse_list(input_list):\n",
        "  # Initialize an empty list to store the reversed elements\n",
        "  reversed_list=[]\n",
        "\n",
        "  # Iterate over the input list in reverse order\n",
        "  for i in range(len(input_list) -1,-1,-1):\n",
        "    reversed_list.append(input_list[i])\n",
        "\n",
        "  return reversed_list\n",
        "\n",
        "#input list\n",
        "input_list= [1,2,3,4,5]\n",
        "\n",
        "#reversed list\n",
        "reveresd_list = reverse_list(input_list)\n",
        "\n",
        "#print list\n",
        "print(\"Origial list: \", input_list)\n",
        "print(\"Reversed list:\", reversed_list)"
      ],
      "metadata": {
        "colab": {
          "base_uri": "https://localhost:8080/"
        },
        "id": "daseDjjokEb-",
        "outputId": "ac84045f-36e8-46a0-9802-57e61c9c9f16"
      },
      "execution_count": 2,
      "outputs": [
        {
          "output_type": "stream",
          "name": "stdout",
          "text": [
            "Origial list:  [1, 2, 3, 4, 5]\n",
            "Reversed list: [5, 4, 3, 2, 1]\n"
          ]
        }
      ]
    },
    {
      "cell_type": "markdown",
      "source": [
        "# **17.Given a string \"Hello World\", write a Python program to reverse the string without**\n",
        "# **reversing the individual words.**\n",
        "\n",
        "# **Expected Output: “World Hello”**"
      ],
      "metadata": {
        "id": "kQ33Vpw33Uij"
      }
    },
    {
      "cell_type": "code",
      "source": [
        "def reverse_string_without_words_reversal(input_string):\n",
        "  #split the string into the word\n",
        "  words = input_string.split()\n",
        "\n",
        "  #reverse the order of the world\n",
        "  reversed_word =words[::-1]\n",
        "\n",
        "  reversed_string = \" \".join(reversed_word)\n",
        "\n",
        "  return reversed_string\n",
        "\n",
        "#input string\n",
        "input_string = \"Hello World\"\n",
        "\n",
        "reversed_string = reverse_string_without_words_reversal(input_string)\n",
        "\n",
        "print(\"Reversed String:\", reversed_string )"
      ],
      "metadata": {
        "colab": {
          "base_uri": "https://localhost:8080/"
        },
        "id": "F6f75Br55R3K",
        "outputId": "ca2da70e-16af-459b-818c-2e6772171698"
      },
      "execution_count": null,
      "outputs": [
        {
          "output_type": "stream",
          "name": "stdout",
          "text": [
            "Reversed String: World Hello\n"
          ]
        }
      ]
    },
    {
      "cell_type": "markdown",
      "source": [
        "# **18. Implement a Python function is_palindrome() that checks whether a passed string is a**\n",
        "# **palindrome (reads the same forward and backward) and tests it with \"radar\".**"
      ],
      "metadata": {
        "id": "xcXXNX2qmjvq"
      }
    },
    {
      "cell_type": "code",
      "source": [
        "def is_palindrome(input_string):\n",
        "  #convert the input string to lowercase to ignore case sensitivity\n",
        "  input_string = input_string.lower()\n",
        "\n",
        "  #remove no alphanumeric characters from the string\n",
        "  input_string = ''.join(char for char in input_string if char.isalnum())\n",
        "\n",
        "  #check if the string is equal to its reverse\n",
        "  return input_string == input_string[::-1]\n",
        "\n",
        "#Test the function with \"radar\"\n",
        "test_string =\"radar\"\n",
        "if is_palindrome(test_string):\n",
        "  print(f\"{test_string} is a palindrome\")\n",
        "else:\n",
        "  print(f\"{test_string} is not a palindrome\")"
      ],
      "metadata": {
        "colab": {
          "base_uri": "https://localhost:8080/"
        },
        "id": "CIYHuPmdoIC-",
        "outputId": "e8cdbf4d-aaba-4a33-d658-fe26c863b7ad"
      },
      "execution_count": 6,
      "outputs": [
        {
          "output_type": "stream",
          "name": "stdout",
          "text": [
            "radar is a palindrome\n"
          ]
        }
      ]
    },
    {
      "cell_type": "markdown",
      "source": [
        "# **19.Write a program that returns a list of even numbers from a given list.**  \n",
        "\n",
        "# **Input: [2, 5, 3, 7, 9, 53, 10, 32, 65, 76, 98]**"
      ],
      "metadata": {
        "id": "4X3RUIvirtap"
      }
    },
    {
      "cell_type": "code",
      "source": [
        "def find_even_numbers(input_list):\n",
        "  even_numbers = [num for num in input_list if num % 2==0]\n",
        "  return even_numbers\n",
        "\n",
        "#input_list\n",
        "input_list = [2,5,3,7,9,53,10,32,65,76,98]\n",
        "\n",
        "#find even_number\n",
        "even_numbers = find_even_numbers(input_list)\n",
        "\n",
        "#print even number\n",
        "print(\"Even Number: \", even_numbers)"
      ],
      "metadata": {
        "colab": {
          "base_uri": "https://localhost:8080/"
        },
        "id": "cvacKU6Br4Vm",
        "outputId": "c86c41e9-d2a7-475b-e77f-58510a45cfe7"
      },
      "execution_count": 8,
      "outputs": [
        {
          "output_type": "stream",
          "name": "stdout",
          "text": [
            "Even Number:  [2, 10, 32, 76, 98]\n"
          ]
        }
      ]
    },
    {
      "cell_type": "markdown",
      "source": [
        "# **20.Given two lists keys = ['a', 'b', 'c'] and values = [1, 2, 3], write a Python program**\n",
        "# **to create a dictionary from these lists.**\n",
        "\n",
        "# **Expected Output: {'a': 1, 'b': 2, 'c': 3}**"
      ],
      "metadata": {
        "id": "_m7p3VKzuivT"
      }
    },
    {
      "cell_type": "code",
      "source": [
        "def create_dictionary(keys, values):\n",
        "  #combine the keys and value into pair\n",
        "  pairs =zip(keys,values)\n",
        "\n",
        "  #convert the pair into a dictionary\n",
        "  dictionary =dict(pairs)\n",
        "\n",
        "  return dictionary\n",
        "\n",
        "#given list\n",
        "keys=['a', 'b', 'c']\n",
        "values= [1,2,3]\n",
        "\n",
        "#create a dictionary from the lists\n",
        "result_dict = create_dictionary(keys, values)\n",
        "\n",
        "#print the result\n",
        "print(\"Resulting Dictionary:\", result_dict)\n",
        ""
      ],
      "metadata": {
        "colab": {
          "base_uri": "https://localhost:8080/"
        },
        "id": "NWZpTYKEu01x",
        "outputId": "3d76fe5d-b44f-4d24-b957-87603a281c5e"
      },
      "execution_count": 10,
      "outputs": [
        {
          "output_type": "stream",
          "name": "stdout",
          "text": [
            "Resulting Dictionary: {'a': 1, 'b': 2, 'c': 3}\n"
          ]
        }
      ]
    }
  ]
}
